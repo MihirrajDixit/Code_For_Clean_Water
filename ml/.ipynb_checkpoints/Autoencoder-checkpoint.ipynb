{
 "cells": [
  {
   "cell_type": "code",
   "execution_count": 0,
   "metadata": {
    "colab": {
     "base_uri": "https://localhost:8080/",
     "height": 34
    },
    "colab_type": "code",
    "id": "Sj08sUlGmFFt",
    "outputId": "9412e614-c282-48a2-c1c3-187f0a49aed6"
   },
   "outputs": [
    {
     "name": "stderr",
     "output_type": "stream",
     "text": [
      "Using TensorFlow backend.\n"
     ]
    }
   ],
   "source": [
    "\n",
    "import pandas as pd\n",
    "import numpy as np\n",
    "from scipy import stats\n",
    "import tensorflow as tf\n",
    "import matplotlib.pyplot as plt\n",
    "import seaborn as sns\n",
    "import pickle\n",
    "from sklearn.model_selection import train_test_split\n",
    "from sklearn.metrics import confusion_matrix, precision_recall_curve\n",
    "from sklearn.metrics import recall_score, classification_report, auc, roc_curve\n",
    "from sklearn.metrics import precision_recall_fscore_support, f1_score\n",
    "from sklearn.preprocessing import StandardScaler\n",
    "from pylab import rcParams\n",
    "from keras.models import Model, load_model\n",
    "from keras.layers import Input, Dense\n",
    "from keras.callbacks import ModelCheckpoint, TensorBoard\n",
    "from keras import regularizers\n",
    "#set random seed and percentage of test data\n",
    "RANDOM_SEED = 314 #used to help randomly select the data points\n",
    "TEST_PCT = 0.2 # 20% of the data\n",
    "\n",
    "#set up graphic style in this case I am using the color scheme from xkcd.com\n",
    "rcParams['figure.figsize'] = 14, 8.7 # Golden Mean\n",
    "LABELS = [\"Normal\",\"Fraud\"]\n",
    "col_list = [\"cerulean\",\"scarlet\"]# https://xkcd.com/color/rgb/\n",
    "#sns.set(style='white', font_scale=1.75, palette=sns.xkcd_palette(col_list))\n",
    "\n"
   ]
  },
  {
   "cell_type": "code",
   "execution_count": 0,
   "metadata": {
    "colab": {
     "base_uri": "https://localhost:8080/",
     "height": 34
    },
    "colab_type": "code",
    "id": "xu0QpBipm2C4",
    "outputId": "3564c393-3e0c-4259-d4d2-3dfabc298717"
   },
   "outputs": [
    {
     "name": "stdout",
     "output_type": "stream",
     "text": [
      "/content/sample_data\n"
     ]
    }
   ],
   "source": [
    "cd sample_data"
   ]
  },
  {
   "cell_type": "code",
   "execution_count": 0,
   "metadata": {
    "colab": {
     "base_uri": "https://localhost:8080/",
     "height": 100,
     "resources": {
      "http://localhost:8080/nbextensions/google.colab/files.js": {
       "data": "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",
       "headers": [
        [
         "content-type",
         "application/javascript"
        ]
       ],
       "ok": true,
       "status": 200,
       "status_text": "OK"
      }
     }
    },
    "colab_type": "code",
    "id": "FnTEobqhm3Yl",
    "outputId": "c509b0f1-d123-43cc-a3a3-19f8dcf9400f"
   },
   "outputs": [
    {
     "data": {
      "text/html": [
       "\n",
       "     <input type=\"file\" id=\"files-f0110aa9-04fa-47d8-8ff8-973c9cb964e1\" name=\"files[]\" multiple disabled />\n",
       "     <output id=\"result-f0110aa9-04fa-47d8-8ff8-973c9cb964e1\">\n",
       "      Upload widget is only available when the cell has been executed in the\n",
       "      current browser session. Please rerun this cell to enable.\n",
       "      </output>\n",
       "      <script src=\"/nbextensions/google.colab/files.js\"></script> "
      ],
      "text/plain": [
       "<IPython.core.display.HTML object>"
      ]
     },
     "metadata": {
      "tags": []
     },
     "output_type": "display_data"
    },
    {
     "name": "stdout",
     "output_type": "stream",
     "text": [
      "Saving IND115Blabels.csv to IND115Blabels.csv\n",
      "User uploaded file \"IND115Blabels.csv\" with length 494167 bytes\n"
     ]
    }
   ],
   "source": [
    "from google.colab import files\n",
    "uploaded = files.upload()\n",
    "for fn in uploaded.keys():\n",
    "      print('User uploaded file \"{name}\" with length {length} bytes'.format(name=fn, length=len(uploaded[fn])))"
   ]
  },
  {
   "cell_type": "code",
   "execution_count": 0,
   "metadata": {
    "colab": {
     "base_uri": "https://localhost:8080/",
     "height": 238
    },
    "colab_type": "code",
    "id": "HAfwicRwnjbB",
    "outputId": "2f3fe820-d333-462a-f19d-23844ad0e8cb"
   },
   "outputs": [
    {
     "data": {
      "text/html": [
       "<div>\n",
       "<style scoped>\n",
       "    .dataframe tbody tr th:only-of-type {\n",
       "        vertical-align: middle;\n",
       "    }\n",
       "\n",
       "    .dataframe tbody tr th {\n",
       "        vertical-align: top;\n",
       "    }\n",
       "\n",
       "    .dataframe thead th {\n",
       "        text-align: right;\n",
       "    }\n",
       "</style>\n",
       "<table border=\"1\" class=\"dataframe\">\n",
       "  <thead>\n",
       "    <tr style=\"text-align: right;\">\n",
       "      <th></th>\n",
       "      <th>id</th>\n",
       "      <th>time</th>\n",
       "      <th>vol</th>\n",
       "      <th>ph</th>\n",
       "      <th>solids</th>\n",
       "      <th>hardness</th>\n",
       "      <th>oil</th>\n",
       "      <th>bod</th>\n",
       "      <th>labels</th>\n",
       "    </tr>\n",
       "  </thead>\n",
       "  <tbody>\n",
       "    <tr>\n",
       "      <th>0</th>\n",
       "      <td>IND115B</td>\n",
       "      <td>1514658602571</td>\n",
       "      <td>2525.0</td>\n",
       "      <td>5.0</td>\n",
       "      <td>38.0</td>\n",
       "      <td>5.0</td>\n",
       "      <td>8.0</td>\n",
       "      <td>6.0</td>\n",
       "      <td>1.0</td>\n",
       "    </tr>\n",
       "    <tr>\n",
       "      <th>1</th>\n",
       "      <td>IND115B</td>\n",
       "      <td>1514662198319</td>\n",
       "      <td>2599.0</td>\n",
       "      <td>5.8</td>\n",
       "      <td>41.9</td>\n",
       "      <td>9.1</td>\n",
       "      <td>6.0</td>\n",
       "      <td>5.3</td>\n",
       "      <td>1.0</td>\n",
       "    </tr>\n",
       "    <tr>\n",
       "      <th>2</th>\n",
       "      <td>IND115B</td>\n",
       "      <td>1514665803879</td>\n",
       "      <td>2698.0</td>\n",
       "      <td>5.8</td>\n",
       "      <td>41.8</td>\n",
       "      <td>12.8</td>\n",
       "      <td>8.7</td>\n",
       "      <td>8.0</td>\n",
       "      <td>1.0</td>\n",
       "    </tr>\n",
       "    <tr>\n",
       "      <th>3</th>\n",
       "      <td>IND115B</td>\n",
       "      <td>1514669395805</td>\n",
       "      <td>2650.0</td>\n",
       "      <td>6.1</td>\n",
       "      <td>46.3</td>\n",
       "      <td>8.2</td>\n",
       "      <td>8.9</td>\n",
       "      <td>10.3</td>\n",
       "      <td>1.0</td>\n",
       "    </tr>\n",
       "    <tr>\n",
       "      <th>4</th>\n",
       "      <td>IND115B</td>\n",
       "      <td>1514673003509</td>\n",
       "      <td>2651.0</td>\n",
       "      <td>5.8</td>\n",
       "      <td>49.6</td>\n",
       "      <td>7.7</td>\n",
       "      <td>11.0</td>\n",
       "      <td>10.1</td>\n",
       "      <td>1.0</td>\n",
       "    </tr>\n",
       "    <tr>\n",
       "      <th>5</th>\n",
       "      <td>IND115B</td>\n",
       "      <td>1514676599691</td>\n",
       "      <td>2611.0</td>\n",
       "      <td>5.9</td>\n",
       "      <td>46.8</td>\n",
       "      <td>7.0</td>\n",
       "      <td>11.0</td>\n",
       "      <td>9.8</td>\n",
       "      <td>1.0</td>\n",
       "    </tr>\n",
       "  </tbody>\n",
       "</table>\n",
       "</div>"
      ],
      "text/plain": [
       "        id           time     vol   ph  solids  hardness   oil   bod  labels\n",
       "0  IND115B  1514658602571  2525.0  5.0    38.0       5.0   8.0   6.0     1.0\n",
       "1  IND115B  1514662198319  2599.0  5.8    41.9       9.1   6.0   5.3     1.0\n",
       "2  IND115B  1514665803879  2698.0  5.8    41.8      12.8   8.7   8.0     1.0\n",
       "3  IND115B  1514669395805  2650.0  6.1    46.3       8.2   8.9  10.3     1.0\n",
       "4  IND115B  1514673003509  2651.0  5.8    49.6       7.7  11.0  10.1     1.0\n",
       "5  IND115B  1514676599691  2611.0  5.9    46.8       7.0  11.0   9.8     1.0"
      ]
     },
     "execution_count": 3,
     "metadata": {
      "tags": []
     },
     "output_type": "execute_result"
    }
   ],
   "source": [
    "df = pd.read_csv(\"IND115Blabels.csv\")\n",
    "df.head(n=6)"
   ]
  },
  {
   "cell_type": "code",
   "execution_count": 0,
   "metadata": {
    "colab": {
     "base_uri": "https://localhost:8080/",
     "height": 34
    },
    "colab_type": "code",
    "id": "b7xm2rW6n0W2",
    "outputId": "09b8f83a-8f7b-47e5-9050-b848b74d62df"
   },
   "outputs": [
    {
     "data": {
      "text/plain": [
       "1.0"
      ]
     },
     "execution_count": 6,
     "metadata": {
      "tags": []
     },
     "output_type": "execute_result"
    }
   ],
   "source": [
    "df.shape[0]\n",
    "df.labels[1]\n"
   ]
  },
  {
   "cell_type": "code",
   "execution_count": 0,
   "metadata": {
    "colab": {
     "base_uri": "https://localhost:8080/",
     "height": 81
    },
    "colab_type": "code",
    "id": "ppaTvSrOhbcI",
    "outputId": "3bfdd244-c503-402d-e513-55d2fabced4a"
   },
   "outputs": [
    {
     "data": {
      "text/html": [
       "<div>\n",
       "<style scoped>\n",
       "    .dataframe tbody tr th:only-of-type {\n",
       "        vertical-align: middle;\n",
       "    }\n",
       "\n",
       "    .dataframe tbody tr th {\n",
       "        vertical-align: top;\n",
       "    }\n",
       "\n",
       "    .dataframe thead th {\n",
       "        text-align: right;\n",
       "    }\n",
       "</style>\n",
       "<table border=\"1\" class=\"dataframe\">\n",
       "  <thead>\n",
       "    <tr style=\"text-align: right;\">\n",
       "      <th></th>\n",
       "      <th>id</th>\n",
       "      <th>time</th>\n",
       "      <th>vol</th>\n",
       "      <th>ph</th>\n",
       "      <th>solids</th>\n",
       "      <th>hardness</th>\n",
       "      <th>oil</th>\n",
       "      <th>bod</th>\n",
       "      <th>labels</th>\n",
       "    </tr>\n",
       "  </thead>\n",
       "  <tbody>\n",
       "    <tr>\n",
       "      <th>1</th>\n",
       "      <td>IND115B</td>\n",
       "      <td>1514662198319</td>\n",
       "      <td>2599.0</td>\n",
       "      <td>5.8</td>\n",
       "      <td>41.9</td>\n",
       "      <td>9.1</td>\n",
       "      <td>6.0</td>\n",
       "      <td>5.3</td>\n",
       "      <td>1.0</td>\n",
       "    </tr>\n",
       "  </tbody>\n",
       "</table>\n",
       "</div>"
      ],
      "text/plain": [
       "        id           time     vol   ph  solids  hardness  oil  bod  labels\n",
       "1  IND115B  1514662198319  2599.0  5.8    41.9       9.1  6.0  5.3     1.0"
      ]
     },
     "execution_count": 4,
     "metadata": {
      "tags": []
     },
     "output_type": "execute_result"
    }
   ],
   "source": [
    "final=pd.DataFrame()\n",
    "final=df.iloc[1].append(df.iloc[2])\n",
    "final\n",
    "df[1:2]"
   ]
  },
  {
   "cell_type": "code",
   "execution_count": 0,
   "metadata": {
    "colab": {
     "base_uri": "https://localhost:8080/",
     "height": 1128
    },
    "colab_type": "code",
    "id": "01NJ5rbqh8B3",
    "outputId": "7afc8472-63af-461d-d2e3-4b3df5f0b4f7"
   },
   "outputs": [
    {
     "name": "stdout",
     "output_type": "stream",
     "text": [
      "           id           time     vol   ph  solids  hardness   oil   bod  labels\n",
      "8129  IND115B  1544009402448  4278.0  9.1     5.8     570.8  11.0   9.4     0.0\n",
      "8127  IND115B  1544002199660  4278.0  8.7    10.5     568.6  11.0   9.2     0.0\n",
      "8126  IND115B  1543998602513  4278.0  8.4     6.2     572.1  10.2  11.8     0.0\n",
      "8121  IND115B  1543980602555  4278.0  8.5    12.1     572.5   7.0   1.0     0.0\n",
      "8120  IND115B  1543976998049  4278.0  8.4     8.5     573.8  11.0   3.9     0.0\n",
      "8119  IND115B  1543973405388  4278.0  8.8     4.0     578.3  10.4   2.8     0.0\n",
      "8118  IND115B  1543969795505  4278.0  9.0     4.0     579.8   7.8   1.0     0.0\n",
      "8117  IND115B  1543966201381  4221.0  8.8     4.0     580.3   6.1   1.0     0.0\n",
      "8112  IND115B  1543948196703  4278.0  8.2     6.2     585.5   7.5   9.3     0.0\n",
      "8111  IND115B  1543944604064  4271.0  7.9    10.4     588.1   4.9   6.2     0.0\n",
      "8109  IND115B  1543937402565  4242.0  8.0    15.1     587.3   6.8   2.7     0.0\n",
      "8107  IND115B  1543930203737  4233.0  8.0    19.6     581.3   4.3   3.5     0.0\n",
      "8082  IND115B  1543840205036  4249.0  8.6    21.8     580.5   4.1  11.7     0.0\n",
      "8081  IND115B  1543836605190  4272.0  8.4    21.1     576.9   5.6  11.1     0.0\n",
      "8080  IND115B  1543832999836  4242.0  8.5    16.8     573.6   8.2  14.5     0.0\n",
      "8078  IND115B  1543825799015  4240.0  8.8    23.8     570.9  10.5   7.1     0.0\n",
      "8077  IND115B  1543822202297  4258.0  8.8    27.6     573.8   8.9   5.0     0.0\n",
      "8076  IND115B  1543818603620  4252.0  8.5    24.2     573.3   4.0   1.0     0.0\n",
      "8075  IND115B  1543815005348  4233.0  8.5    24.5     575.2   4.0   3.9     0.0\n",
      "8074  IND115B  1543811400139  4257.0  8.7    23.5     575.8   4.6   5.9     0.0\n",
      "8073  IND115B  1543807798277  4202.0  8.7    23.9     571.0   6.0   1.9     0.0\n",
      "8072  IND115B  1543804197178  4278.0  8.8    27.9     566.5   4.0   4.6     0.0\n",
      "8071  IND115B  1543800599266  4278.0  9.0    32.5     567.7   4.0   5.5     0.0\n",
      "8070  IND115B  1543796999739  4278.0  8.8    33.6     571.2   4.0   1.7     0.0\n",
      "8069  IND115B  1543793405045  4278.0  9.2    33.7     573.3   4.0   1.0     0.0\n",
      "8068  IND115B  1543789795917  4278.0  9.2    28.7     571.8   4.7   1.0     0.0\n",
      "8067  IND115B  1543786201098  4269.0  8.8    32.1     571.5   8.1   3.4     0.0\n",
      "8066  IND115B  1543782595893  4248.0  9.2    34.3     570.2   4.2   4.8     0.0\n",
      "8065  IND115B  1543779001854  4278.0  9.3    37.3     570.8   4.0   3.7     0.0\n",
      "8064  IND115B  1543775405256  4278.0  9.3    40.7     570.0   4.0   1.0     0.0\n",
      "...       ...            ...     ...  ...     ...       ...   ...   ...     ...\n",
      "1661  IND115B  1520638197378  4247.0  8.6   134.0      59.8   7.1   1.8     0.0\n",
      "1658  IND115B  1520627401204  4220.0  9.0   144.1      58.8   6.5   5.9     0.0\n",
      "1657  IND115B  1520623800153  4212.0  9.5   147.4      57.3   7.7   6.7     0.0\n",
      "1656  IND115B  1520620204243  4258.0  9.7   150.9      61.9  11.0  11.3     0.0\n",
      "1655  IND115B  1520616596911  4203.0  9.5   151.5      61.7  11.0  13.0     0.0\n",
      "1654  IND115B  1520613003484  4235.0  9.7   151.0      58.0   9.3  14.7     0.0\n",
      "1653  IND115B  1520609403013  4278.0  9.6   152.4      62.7  10.4  12.4     0.0\n",
      "1652  IND115B  1520605804802  4203.0  9.5   152.2      63.7   6.6  10.6     0.0\n",
      "1651  IND115B  1520602202128  4278.0  9.2   152.1      67.2   4.0  12.8     0.0\n",
      "1650  IND115B  1520598603894  4278.0  8.7   151.0      65.4   4.0  10.6     0.0\n",
      "1649  IND115B  1520595000047  4278.0  8.4   147.5      62.1   4.0   7.6     0.0\n",
      "1648  IND115B  1520591395471  4274.0  8.2   146.5      57.2   4.0   8.9     0.0\n",
      "1647  IND115B  1520587800855  4247.0  8.2   141.6      55.2   4.0   5.5     0.0\n",
      "1646  IND115B  1520584202297  4257.0  7.9   142.1      59.7   5.0   2.2     0.0\n",
      "1645  IND115B  1520580601348  4278.0  7.6   141.0      60.7   8.3   2.6     0.0\n",
      "1644  IND115B  1520577000822  4278.0  7.4   140.3      58.9   4.0   1.0     0.0\n",
      "1643  IND115B  1520573398673  4278.0  7.9   139.1      57.7   4.0   1.0     0.0\n",
      "1642  IND115B  1520569795547  4214.0  7.8   140.9      59.6   4.0   1.0     0.0\n",
      "1638  IND115B  1520555398166  4240.0  7.8   139.8      51.0   7.2   1.0     0.0\n",
      "1544  IND115B  1520216997550  4221.0  7.3   166.2      31.4   8.4   2.7     0.0\n",
      "1542  IND115B  1520209802998  4226.0  7.0   168.1      37.7   8.6   5.2     0.0\n",
      "1541  IND115B  1520206205212  4210.0  6.5   168.1      35.6   8.6   5.8     0.0\n",
      "1540  IND115B  1520202603193  4278.0  6.7   163.2      34.5  11.0   4.5     0.0\n",
      "1539  IND115B  1520199002078  4272.0  6.6   168.1      33.5  10.8   3.0     0.0\n",
      "1534  IND115B  1520180999498  4237.0  7.0   165.5      32.5   4.2   7.0     0.0\n",
      "1532  IND115B  1520173799071  4242.0  7.1   160.7      26.7   4.0  12.5     0.0\n",
      "1531  IND115B  1520170201973  4214.0  7.3   160.2      24.3   4.0  15.0     0.0\n",
      "1530  IND115B  1520166602835  4278.0  7.4   158.1      29.1   4.0  15.0     0.0\n",
      "1529  IND115B  1520162997426  4250.0  7.1   162.0      30.7   6.7  10.8     0.0\n",
      "1527  IND115B  1520155800746  4228.0  7.1   164.9      34.3  10.8  15.0     0.0\n",
      "\n",
      "[631 rows x 9 columns]\n"
     ]
    }
   ],
   "source": [
    "final=pd.DataFrame()\n",
    "test=pd.DataFrame()\n",
    "lb=df.shape[0]\n",
    "\n",
    "\n",
    "for i in range(0,lb):\n",
    "    if(df.labels[i]==1):\n",
    "      final = df[i:i+1].append(final)\n",
    "    else:\n",
    "      test=df[i:i+1].append(test) \n",
    "      \n",
    "      \n",
    "print(test)\n",
    "    \n"
   ]
  },
  {
   "cell_type": "code",
   "execution_count": 0,
   "metadata": {
    "colab": {},
    "colab_type": "code",
    "id": "M3UMDPk5s-Sj"
   },
   "outputs": [],
   "source": [
    "final=final.drop(['id', 'time','labels'], axis=1)\n",
    "test=test.drop(['id', 'time'], axis=1)\n",
    "\n",
    "final['vol'] = StandardScaler().fit_transform(final['vol'].values.reshape(-1, 1))\n",
    "final['ph'] = StandardScaler().fit_transform(final['ph'].values.reshape(-1, 1))\n",
    "final['solids'] = StandardScaler().fit_transform(final['solids'].values.reshape(-1, 1))\n",
    "final['hardness'] = StandardScaler().fit_transform(final['hardness'].values.reshape(-1, 1))\n",
    "final['oil'] = StandardScaler().fit_transform(final['oil'].values.reshape(-1, 1))\n",
    "final['bod'] = StandardScaler().fit_transform(final['bod'].values.reshape(-1, 1))\n",
    "\n",
    "\n",
    "\n",
    "test['vol'] = StandardScaler().fit_transform(test['vol'].values.reshape(-1, 1))\n",
    "test['ph'] = StandardScaler().fit_transform(test['ph'].values.reshape(-1, 1))\n",
    "test['solids'] = StandardScaler().fit_transform(test['solids'].values.reshape(-1, 1))\n",
    "test['hardness'] = StandardScaler().fit_transform(test['hardness'].values.reshape(-1, 1))\n",
    "test['oil'] = StandardScaler().fit_transform(test['oil'].values.reshape(-1, 1))\n",
    "test['bod'] = StandardScaler().fit_transform(test['bod'].values.reshape(-1, 1))\n"
   ]
  },
  {
   "cell_type": "code",
   "execution_count": 0,
   "metadata": {
    "colab": {},
    "colab_type": "code",
    "id": "1g5iKy3Z1jCY"
   },
   "outputs": [],
   "source": [
    "test\n",
    "y_testre=test\n",
    "test=test.drop(['labels'], axis=1)"
   ]
  },
  {
   "cell_type": "code",
   "execution_count": 0,
   "metadata": {
    "colab": {},
    "colab_type": "code",
    "id": "w8ffkc8porFq"
   },
   "outputs": [],
   "source": [
    "train_x, test_x = train_test_split(final, test_size=TEST_PCT, random_state=RANDOM_SEED)\n"
   ]
  },
  {
   "cell_type": "code",
   "execution_count": 0,
   "metadata": {
    "colab": {
     "base_uri": "https://localhost:8080/",
     "height": 139
    },
    "colab_type": "code",
    "id": "JSbAEWXipKlz",
    "outputId": "29c68d27-700a-419f-a2a1-d605792701ad"
   },
   "outputs": [
    {
     "name": "stdout",
     "output_type": "stream",
     "text": [
      "[[ 0.53978941 -0.64770875  1.0944955  -1.1119927  -1.08980317  0.66708182]\n",
      " [-0.00164179  1.56419198 -0.52740991 -0.53530231  1.32150685 -0.07597269]\n",
      " [-0.68652913  0.87774003  0.56294667  0.83754385  0.26655872 -0.86148746]\n",
      " ...\n",
      " [ 1.31260148  1.03028491 -0.02701412  0.02238676 -1.31586348 -0.43688488]\n",
      " [-0.53844538  1.64046442 -1.14852374  1.30545163 -1.31586348  1.45259659]\n",
      " [ 0.0781846   1.48791955  0.64277635 -1.04691314 -0.11020847  0.2849395 ]]\n"
     ]
    }
   ],
   "source": [
    "train_x = train_x.values #transform to ndarray\n",
    "print(train_x)\n",
    "test_x = test_x.values \n",
    "test=test.values"
   ]
  },
  {
   "cell_type": "code",
   "execution_count": 0,
   "metadata": {
    "colab": {
     "base_uri": "https://localhost:8080/",
     "height": 34
    },
    "colab_type": "code",
    "id": "_Uic47z1pRiN",
    "outputId": "a48831b0-feef-4cb7-b8ca-9e629db7b5d8"
   },
   "outputs": [
    {
     "data": {
      "text/plain": [
       "(6484, 6)"
      ]
     },
     "execution_count": 10,
     "metadata": {
      "tags": []
     },
     "output_type": "execute_result"
    }
   ],
   "source": [
    "train_x.shape"
   ]
  },
  {
   "cell_type": "code",
   "execution_count": 0,
   "metadata": {
    "colab": {
     "base_uri": "https://localhost:8080/",
     "height": 34
    },
    "colab_type": "code",
    "id": "sHYmOU7YnJ4i",
    "outputId": "2fdfb186-2130-4737-b0cb-9e9a02ac2971"
   },
   "outputs": [
    {
     "data": {
      "text/plain": [
       "(631, 6)"
      ]
     },
     "execution_count": 11,
     "metadata": {
      "tags": []
     },
     "output_type": "execute_result"
    }
   ],
   "source": [
    "test.shape"
   ]
  },
  {
   "cell_type": "code",
   "execution_count": 0,
   "metadata": {
    "colab": {
     "base_uri": "https://localhost:8080/",
     "height": 243
    },
    "colab_type": "code",
    "id": "gOvkEIbvnJRS",
    "outputId": "525ba1a9-dc02-4c68-93ef-73053c86cb6b"
   },
   "outputs": [
    {
     "data": {
      "text/plain": [
       "array([[ 0.53978941, -0.64770875,  1.0944955 , -1.1119927 , -1.08980317,\n",
       "         0.66708182],\n",
       "       [-0.00164179,  1.56419198, -0.52740991, -0.53530231,  1.32150685,\n",
       "        -0.07597269],\n",
       "       [-0.68652913,  0.87774003,  0.56294667,  0.83754385,  0.26655872,\n",
       "        -0.86148746],\n",
       "       ...,\n",
       "       [ 1.31260148,  1.03028491, -0.02701412,  0.02238676, -1.31586348,\n",
       "        -0.43688488],\n",
       "       [-0.53844538,  1.64046442, -1.14852374,  1.30545163, -1.31586348,\n",
       "         1.45259659],\n",
       "       [ 0.0781846 ,  1.48791955,  0.64277635, -1.04691314, -0.11020847,\n",
       "         0.2849395 ]])"
      ]
     },
     "execution_count": 12,
     "metadata": {
      "tags": []
     },
     "output_type": "execute_result"
    }
   ],
   "source": [
    "train_x"
   ]
  },
  {
   "cell_type": "code",
   "execution_count": 0,
   "metadata": {
    "colab": {
     "base_uri": "https://localhost:8080/",
     "height": 89
    },
    "colab_type": "code",
    "id": "sCYFmmfrpmh5",
    "outputId": "ccf30278-9fe0-44eb-cd3a-5e223a77ae8c"
   },
   "outputs": [
    {
     "name": "stdout",
     "output_type": "stream",
     "text": [
      "WARNING:tensorflow:From /usr/local/lib/python3.6/dist-packages/tensorflow/python/framework/op_def_library.py:263: colocate_with (from tensorflow.python.framework.ops) is deprecated and will be removed in a future version.\n",
      "Instructions for updating:\n",
      "Colocations handled automatically by placer.\n"
     ]
    }
   ],
   "source": [
    "nb_epoch = 100\n",
    "batch_size = 128\n",
    "input_dim = train_x.shape[1] #num of columns, 6\n",
    "encoding_dim = 10\n",
    "hidden_dim = int(encoding_dim / 2) #i.e. 7\n",
    "learning_rate = 1e-7\n",
    "\n",
    "input_layer = Input(shape=(input_dim, ))\n",
    "encoder = Dense(encoding_dim, activation=\"tanh\")(input_layer)\n",
    "encoder = Dense(hidden_dim, activation=\"relu\")(encoder)\n",
    "decoder = Dense(hidden_dim, activation='tanh')(encoder)\n",
    "decoder = Dense(input_dim, activation='linear')(decoder)\n",
    "autoencoder = Model(inputs=input_layer, outputs=decoder)\n",
    "\n"
   ]
  },
  {
   "cell_type": "code",
   "execution_count": 0,
   "metadata": {
    "colab": {
     "base_uri": "https://localhost:8080/",
     "height": 781
    },
    "colab_type": "code",
    "id": "lYUr_wcqnvZ_",
    "outputId": "bdf514c7-f7c8-472c-bbc2-e725b8618fae"
   },
   "outputs": [
    {
     "data": {
      "text/plain": [
       "[array([[-0.36286643,  0.04568881,  0.03868032, -0.41271323, -0.47604024,\n",
       "          0.22027344,  0.5852421 ,  0.41412514, -0.2667899 ,  0.3138339 ],\n",
       "        [ 0.61123794, -0.5148101 ,  0.15906614,  0.31357694,  0.19840217,\n",
       "         -0.1919485 , -0.24081355,  0.3903219 ,  0.18589693, -0.46135125],\n",
       "        [ 0.20341074, -0.42992437,  0.28006345, -0.03849941,  0.23813355,\n",
       "          0.06713998,  0.31210494, -0.18599415, -0.60763633, -0.07692295],\n",
       "        [ 0.5667965 , -0.32612163,  0.0341959 , -0.14603645, -0.14194113,\n",
       "          0.3267414 ,  0.59110016, -0.4769358 ,  0.5681029 , -0.40060854],\n",
       "        [ 0.34903342, -0.5080263 , -0.07258582,  0.4854688 , -0.16255033,\n",
       "         -0.14970618,  0.02515215,  0.577177  , -0.01078421, -0.46292847],\n",
       "        [ 0.23782218, -0.07746798,  0.17872083, -0.22285616, -0.41208845,\n",
       "         -0.56415725,  0.16615331,  0.24940282, -0.38374895, -0.21939376]],\n",
       "       dtype=float32),\n",
       " array([0., 0., 0., 0., 0., 0., 0., 0., 0., 0.], dtype=float32),\n",
       " array([[-0.3137313 , -0.14548591,  0.48774666,  0.6068093 , -0.23509535],\n",
       "        [ 0.24295539, -0.03011197,  0.01146317,  0.30821967, -0.431472  ],\n",
       "        [ 0.41288906,  0.57340926,  0.05556822,  0.42769033, -0.25375116],\n",
       "        [-0.05441892, -0.25680205, -0.5755263 , -0.097718  ,  0.34205687],\n",
       "        [-0.20652083,  0.01292819, -0.08180374,  0.40050882,  0.1809758 ],\n",
       "        [ 0.04200399,  0.3298012 ,  0.34458035,  0.5973565 ,  0.6134152 ],\n",
       "        [-0.02350879,  0.1812504 ,  0.0673697 , -0.32115012, -0.22313628],\n",
       "        [-0.2044259 ,  0.54338723, -0.40151274, -0.2076273 , -0.25677508],\n",
       "        [-0.29449257, -0.03187096,  0.36860865, -0.31225657, -0.02581257],\n",
       "        [-0.07063746,  0.5844771 ,  0.16998988,  0.2476027 , -0.2548691 ]],\n",
       "       dtype=float32),\n",
       " array([0., 0., 0., 0., 0.], dtype=float32),\n",
       " array([[ 0.55969524,  0.6192905 , -0.6401247 ,  0.03995329,  0.45291507],\n",
       "        [-0.53652114, -0.7618936 , -0.4646344 , -0.0952397 ,  0.58997345],\n",
       "        [-0.7567882 ,  0.5770612 ,  0.04117179,  0.40954804,  0.674119  ],\n",
       "        [ 0.53191304,  0.2416507 , -0.3558914 , -0.08427697,  0.0859068 ],\n",
       "        [ 0.6009103 , -0.6507888 , -0.56036437,  0.72407997, -0.6008034 ]],\n",
       "       dtype=float32),\n",
       " array([0., 0., 0., 0., 0.], dtype=float32),\n",
       " array([[ 0.34083742, -0.23904747,  0.44568604, -0.40812913,  0.00522864,\n",
       "         -0.52073365],\n",
       "        [ 0.34477347,  0.57359475, -0.22471005, -0.7057123 ,  0.27663165,\n",
       "          0.16881365],\n",
       "        [-0.7093662 ,  0.6291414 , -0.33294344,  0.36181837, -0.7015645 ,\n",
       "         -0.47800532],\n",
       "        [ 0.5204577 ,  0.3035031 , -0.58215535, -0.61681396,  0.05487192,\n",
       "         -0.4467207 ],\n",
       "        [ 0.70878655,  0.45687157, -0.34229684,  0.30932587, -0.657649  ,\n",
       "          0.2974804 ]], dtype=float32),\n",
       " array([0., 0., 0., 0., 0., 0.], dtype=float32)]"
      ]
     },
     "execution_count": 14,
     "metadata": {
      "tags": []
     },
     "output_type": "execute_result"
    }
   ],
   "source": [
    "autoencoder.get_weights()"
   ]
  },
  {
   "cell_type": "code",
   "execution_count": 0,
   "metadata": {
    "colab": {
     "base_uri": "https://localhost:8080/",
     "height": 3580
    },
    "colab_type": "code",
    "id": "a-hVIQKnpmmY",
    "outputId": "5c1a7a05-b6e5-4639-8233-d9cad1f609c5"
   },
   "outputs": [
    {
     "name": "stdout",
     "output_type": "stream",
     "text": [
      "WARNING:tensorflow:From /usr/local/lib/python3.6/dist-packages/tensorflow/python/ops/math_ops.py:3066: to_int32 (from tensorflow.python.ops.math_ops) is deprecated and will be removed in a future version.\n",
      "Instructions for updating:\n",
      "Use tf.cast instead.\n",
      "Train on 6484 samples, validate on 1621 samples\n",
      "Epoch 1/100\n",
      "6484/6484 [==============================] - 1s 162us/step - loss: 0.9962 - acc: 0.1681 - val_loss: 0.8679 - val_acc: 0.1912\n",
      "Epoch 2/100\n",
      "6484/6484 [==============================] - 0s 31us/step - loss: 0.8176 - acc: 0.2076 - val_loss: 0.7440 - val_acc: 0.2671\n",
      "Epoch 3/100\n",
      "6484/6484 [==============================] - 0s 29us/step - loss: 0.7160 - acc: 0.3021 - val_loss: 0.6594 - val_acc: 0.3726\n",
      "Epoch 4/100\n",
      "6484/6484 [==============================] - 0s 30us/step - loss: 0.6387 - acc: 0.3854 - val_loss: 0.5879 - val_acc: 0.4423\n",
      "Epoch 5/100\n",
      "6484/6484 [==============================] - 0s 30us/step - loss: 0.5726 - acc: 0.4497 - val_loss: 0.5264 - val_acc: 0.5262\n",
      "Epoch 6/100\n",
      "6484/6484 [==============================] - 0s 31us/step - loss: 0.5142 - acc: 0.5353 - val_loss: 0.4719 - val_acc: 0.6052\n",
      "Epoch 7/100\n",
      "6484/6484 [==============================] - 0s 29us/step - loss: 0.4587 - acc: 0.5915 - val_loss: 0.4182 - val_acc: 0.6391\n",
      "Epoch 8/100\n",
      "6484/6484 [==============================] - 0s 30us/step - loss: 0.4033 - acc: 0.6217 - val_loss: 0.3648 - val_acc: 0.6564\n",
      "Epoch 9/100\n",
      "6484/6484 [==============================] - 0s 29us/step - loss: 0.3490 - acc: 0.6487 - val_loss: 0.3101 - val_acc: 0.6829\n",
      "Epoch 10/100\n",
      "6484/6484 [==============================] - 0s 29us/step - loss: 0.2937 - acc: 0.6835 - val_loss: 0.2563 - val_acc: 0.6934\n",
      "Epoch 11/100\n",
      "6484/6484 [==============================] - 0s 31us/step - loss: 0.2461 - acc: 0.7079 - val_loss: 0.2199 - val_acc: 0.7138\n",
      "Epoch 12/100\n",
      "6484/6484 [==============================] - 0s 29us/step - loss: 0.2150 - acc: 0.7155 - val_loss: 0.1964 - val_acc: 0.7138\n",
      "Epoch 13/100\n",
      "6484/6484 [==============================] - 0s 29us/step - loss: 0.1941 - acc: 0.7167 - val_loss: 0.1801 - val_acc: 0.7125\n",
      "Epoch 14/100\n",
      "6484/6484 [==============================] - 0s 29us/step - loss: 0.1790 - acc: 0.7204 - val_loss: 0.1679 - val_acc: 0.7205\n",
      "Epoch 15/100\n",
      "6484/6484 [==============================] - 0s 26us/step - loss: 0.1673 - acc: 0.7221 - val_loss: 0.1582 - val_acc: 0.7199\n",
      "Epoch 16/100\n",
      "6484/6484 [==============================] - 0s 28us/step - loss: 0.1579 - acc: 0.7264 - val_loss: 0.1503 - val_acc: 0.7292\n",
      "Epoch 17/100\n",
      "6484/6484 [==============================] - 0s 26us/step - loss: 0.1501 - acc: 0.7298 - val_loss: 0.1435 - val_acc: 0.7341\n",
      "Epoch 18/100\n",
      "6484/6484 [==============================] - 0s 28us/step - loss: 0.1437 - acc: 0.7350 - val_loss: 0.1379 - val_acc: 0.7335\n",
      "Epoch 19/100\n",
      "6484/6484 [==============================] - 0s 26us/step - loss: 0.1382 - acc: 0.7389 - val_loss: 0.1332 - val_acc: 0.7230\n",
      "Epoch 20/100\n",
      "6484/6484 [==============================] - 0s 26us/step - loss: 0.1336 - acc: 0.7395 - val_loss: 0.1290 - val_acc: 0.7366\n",
      "Epoch 21/100\n",
      "6484/6484 [==============================] - 0s 32us/step - loss: 0.1296 - acc: 0.7440 - val_loss: 0.1255 - val_acc: 0.7347\n",
      "Epoch 22/100\n",
      "6484/6484 [==============================] - 0s 25us/step - loss: 0.1262 - acc: 0.7468 - val_loss: 0.1224 - val_acc: 0.7353\n",
      "Epoch 23/100\n",
      "6484/6484 [==============================] - 0s 26us/step - loss: 0.1233 - acc: 0.7460 - val_loss: 0.1198 - val_acc: 0.7421\n",
      "Epoch 24/100\n",
      "6484/6484 [==============================] - 0s 26us/step - loss: 0.1207 - acc: 0.7498 - val_loss: 0.1174 - val_acc: 0.7440\n",
      "Epoch 25/100\n",
      "6484/6484 [==============================] - 0s 26us/step - loss: 0.1185 - acc: 0.7515 - val_loss: 0.1153 - val_acc: 0.7520\n",
      "Epoch 26/100\n",
      "6484/6484 [==============================] - 0s 28us/step - loss: 0.1165 - acc: 0.7563 - val_loss: 0.1135 - val_acc: 0.7551\n",
      "Epoch 27/100\n",
      "6484/6484 [==============================] - 0s 28us/step - loss: 0.1148 - acc: 0.7579 - val_loss: 0.1118 - val_acc: 0.7532\n",
      "Epoch 28/100\n",
      "6484/6484 [==============================] - 0s 28us/step - loss: 0.1133 - acc: 0.7613 - val_loss: 0.1104 - val_acc: 0.7582\n",
      "Epoch 29/100\n",
      "6484/6484 [==============================] - 0s 26us/step - loss: 0.1119 - acc: 0.7636 - val_loss: 0.1090 - val_acc: 0.7606\n",
      "Epoch 30/100\n",
      "6484/6484 [==============================] - 0s 26us/step - loss: 0.1107 - acc: 0.7668 - val_loss: 0.1079 - val_acc: 0.7569\n",
      "Epoch 31/100\n",
      "6484/6484 [==============================] - 0s 26us/step - loss: 0.1096 - acc: 0.7670 - val_loss: 0.1067 - val_acc: 0.7594\n",
      "Epoch 32/100\n",
      "6484/6484 [==============================] - 0s 28us/step - loss: 0.1086 - acc: 0.7702 - val_loss: 0.1058 - val_acc: 0.7594\n",
      "Epoch 33/100\n",
      "6484/6484 [==============================] - 0s 28us/step - loss: 0.1077 - acc: 0.7716 - val_loss: 0.1049 - val_acc: 0.7625\n",
      "Epoch 34/100\n",
      "6484/6484 [==============================] - 0s 28us/step - loss: 0.1068 - acc: 0.7727 - val_loss: 0.1041 - val_acc: 0.7674\n",
      "Epoch 35/100\n",
      "6484/6484 [==============================] - 0s 27us/step - loss: 0.1061 - acc: 0.7747 - val_loss: 0.1033 - val_acc: 0.7613\n",
      "Epoch 36/100\n",
      "6484/6484 [==============================] - 0s 26us/step - loss: 0.1054 - acc: 0.7771 - val_loss: 0.1026 - val_acc: 0.7662\n",
      "Epoch 37/100\n",
      "6484/6484 [==============================] - 0s 26us/step - loss: 0.1048 - acc: 0.7765 - val_loss: 0.1020 - val_acc: 0.7662\n",
      "Epoch 38/100\n",
      "6484/6484 [==============================] - 0s 28us/step - loss: 0.1042 - acc: 0.7795 - val_loss: 0.1014 - val_acc: 0.7687\n",
      "Epoch 39/100\n",
      "6484/6484 [==============================] - 0s 27us/step - loss: 0.1037 - acc: 0.7807 - val_loss: 0.1009 - val_acc: 0.7705\n",
      "Epoch 40/100\n",
      "6484/6484 [==============================] - 0s 30us/step - loss: 0.1032 - acc: 0.7804 - val_loss: 0.1003 - val_acc: 0.7736\n",
      "Epoch 41/100\n",
      "6484/6484 [==============================] - 0s 27us/step - loss: 0.1027 - acc: 0.7833 - val_loss: 0.0999 - val_acc: 0.7717\n",
      "Epoch 42/100\n",
      "6484/6484 [==============================] - 0s 27us/step - loss: 0.1023 - acc: 0.7824 - val_loss: 0.0996 - val_acc: 0.7668\n",
      "Epoch 43/100\n",
      "6484/6484 [==============================] - 0s 26us/step - loss: 0.1019 - acc: 0.7822 - val_loss: 0.0991 - val_acc: 0.7754\n",
      "Epoch 44/100\n",
      "6484/6484 [==============================] - 0s 26us/step - loss: 0.1015 - acc: 0.7853 - val_loss: 0.0987 - val_acc: 0.7705\n",
      "Epoch 45/100\n",
      "6484/6484 [==============================] - 0s 29us/step - loss: 0.1011 - acc: 0.7845 - val_loss: 0.0983 - val_acc: 0.7767\n",
      "Epoch 46/100\n",
      "6484/6484 [==============================] - 0s 26us/step - loss: 0.1008 - acc: 0.7832 - val_loss: 0.0980 - val_acc: 0.7791\n",
      "Epoch 47/100\n",
      "6484/6484 [==============================] - 0s 29us/step - loss: 0.1005 - acc: 0.7836 - val_loss: 0.0976 - val_acc: 0.7779\n",
      "Epoch 48/100\n",
      "6484/6484 [==============================] - 0s 28us/step - loss: 0.1002 - acc: 0.7872 - val_loss: 0.0975 - val_acc: 0.7748\n",
      "Epoch 49/100\n",
      "6484/6484 [==============================] - 0s 27us/step - loss: 0.0999 - acc: 0.7853 - val_loss: 0.0971 - val_acc: 0.7785\n",
      "Epoch 50/100\n",
      "6484/6484 [==============================] - 0s 29us/step - loss: 0.0997 - acc: 0.7855 - val_loss: 0.0968 - val_acc: 0.7687\n",
      "Epoch 51/100\n",
      "6484/6484 [==============================] - 0s 26us/step - loss: 0.0994 - acc: 0.7862 - val_loss: 0.0966 - val_acc: 0.7717\n",
      "Epoch 52/100\n",
      "6484/6484 [==============================] - 0s 27us/step - loss: 0.0992 - acc: 0.7858 - val_loss: 0.0964 - val_acc: 0.7754\n",
      "Epoch 53/100\n",
      "6484/6484 [==============================] - 0s 27us/step - loss: 0.0990 - acc: 0.7869 - val_loss: 0.0961 - val_acc: 0.7736\n",
      "Epoch 54/100\n",
      "6484/6484 [==============================] - 0s 28us/step - loss: 0.0988 - acc: 0.7864 - val_loss: 0.0959 - val_acc: 0.7822\n",
      "Epoch 55/100\n",
      "6484/6484 [==============================] - 0s 32us/step - loss: 0.0985 - acc: 0.7847 - val_loss: 0.0957 - val_acc: 0.7761\n",
      "Epoch 56/100\n",
      "6484/6484 [==============================] - 0s 30us/step - loss: 0.0984 - acc: 0.7869 - val_loss: 0.0955 - val_acc: 0.7773\n",
      "Epoch 57/100\n",
      "6484/6484 [==============================] - 0s 29us/step - loss: 0.0982 - acc: 0.7861 - val_loss: 0.0954 - val_acc: 0.7841\n",
      "Epoch 58/100\n",
      "6484/6484 [==============================] - 0s 30us/step - loss: 0.0980 - acc: 0.7866 - val_loss: 0.0952 - val_acc: 0.7761\n",
      "Epoch 59/100\n",
      "6484/6484 [==============================] - 0s 30us/step - loss: 0.0978 - acc: 0.7881 - val_loss: 0.0950 - val_acc: 0.7804\n",
      "Epoch 60/100\n",
      "6484/6484 [==============================] - 0s 29us/step - loss: 0.0977 - acc: 0.7852 - val_loss: 0.0948 - val_acc: 0.7810\n",
      "Epoch 61/100\n",
      "6484/6484 [==============================] - 0s 30us/step - loss: 0.0975 - acc: 0.7866 - val_loss: 0.0947 - val_acc: 0.7791\n",
      "Epoch 62/100\n",
      "6484/6484 [==============================] - 0s 31us/step - loss: 0.0974 - acc: 0.7864 - val_loss: 0.0945 - val_acc: 0.7742\n",
      "Epoch 63/100\n",
      "6484/6484 [==============================] - 0s 30us/step - loss: 0.0972 - acc: 0.7855 - val_loss: 0.0944 - val_acc: 0.7835\n",
      "Epoch 64/100\n",
      "6484/6484 [==============================] - 0s 32us/step - loss: 0.0971 - acc: 0.7867 - val_loss: 0.0943 - val_acc: 0.7822\n",
      "Epoch 65/100\n",
      "6484/6484 [==============================] - 0s 29us/step - loss: 0.0970 - acc: 0.7890 - val_loss: 0.0941 - val_acc: 0.7816\n",
      "Epoch 66/100\n",
      "6484/6484 [==============================] - 0s 29us/step - loss: 0.0968 - acc: 0.7867 - val_loss: 0.0939 - val_acc: 0.7785\n",
      "Epoch 67/100\n",
      "6484/6484 [==============================] - 0s 30us/step - loss: 0.0967 - acc: 0.7850 - val_loss: 0.0939 - val_acc: 0.7810\n",
      "Epoch 68/100\n",
      "6484/6484 [==============================] - 0s 31us/step - loss: 0.0966 - acc: 0.7862 - val_loss: 0.0937 - val_acc: 0.7822\n",
      "Epoch 69/100\n",
      "6484/6484 [==============================] - 0s 30us/step - loss: 0.0964 - acc: 0.7873 - val_loss: 0.0936 - val_acc: 0.7847\n",
      "Epoch 70/100\n",
      "6484/6484 [==============================] - 0s 30us/step - loss: 0.0964 - acc: 0.7889 - val_loss: 0.0935 - val_acc: 0.7804\n",
      "Epoch 71/100\n",
      "6484/6484 [==============================] - 0s 30us/step - loss: 0.0962 - acc: 0.7875 - val_loss: 0.0934 - val_acc: 0.7730\n",
      "Epoch 72/100\n",
      "6484/6484 [==============================] - 0s 31us/step - loss: 0.0962 - acc: 0.7850 - val_loss: 0.0933 - val_acc: 0.7896\n",
      "Epoch 73/100\n",
      "6484/6484 [==============================] - 0s 31us/step - loss: 0.0960 - acc: 0.7870 - val_loss: 0.0932 - val_acc: 0.7841\n",
      "Epoch 74/100\n",
      "6484/6484 [==============================] - 0s 31us/step - loss: 0.0959 - acc: 0.7856 - val_loss: 0.0932 - val_acc: 0.7841\n",
      "Epoch 75/100\n",
      "6484/6484 [==============================] - 0s 30us/step - loss: 0.0959 - acc: 0.7870 - val_loss: 0.0930 - val_acc: 0.7798\n",
      "Epoch 76/100\n",
      "6484/6484 [==============================] - 0s 30us/step - loss: 0.0957 - acc: 0.7861 - val_loss: 0.0929 - val_acc: 0.7804\n",
      "Epoch 77/100\n",
      "6484/6484 [==============================] - 0s 29us/step - loss: 0.0957 - acc: 0.7879 - val_loss: 0.0928 - val_acc: 0.7878\n",
      "Epoch 78/100\n",
      "6484/6484 [==============================] - 0s 29us/step - loss: 0.0956 - acc: 0.7862 - val_loss: 0.0928 - val_acc: 0.7859\n",
      "Epoch 79/100\n",
      "6484/6484 [==============================] - 0s 30us/step - loss: 0.0955 - acc: 0.7861 - val_loss: 0.0927 - val_acc: 0.7841\n",
      "Epoch 80/100\n",
      "6484/6484 [==============================] - 0s 29us/step - loss: 0.0954 - acc: 0.7870 - val_loss: 0.0926 - val_acc: 0.7866\n",
      "Epoch 81/100\n",
      "6484/6484 [==============================] - 0s 31us/step - loss: 0.0953 - acc: 0.7861 - val_loss: 0.0924 - val_acc: 0.7816\n",
      "Epoch 82/100\n",
      "6484/6484 [==============================] - 0s 32us/step - loss: 0.0952 - acc: 0.7867 - val_loss: 0.0924 - val_acc: 0.7853\n",
      "Epoch 83/100\n",
      "6484/6484 [==============================] - 0s 30us/step - loss: 0.0952 - acc: 0.7876 - val_loss: 0.0924 - val_acc: 0.7853\n",
      "Epoch 84/100\n",
      "6484/6484 [==============================] - 0s 30us/step - loss: 0.0951 - acc: 0.7853 - val_loss: 0.0923 - val_acc: 0.7859\n",
      "Epoch 85/100\n",
      "6484/6484 [==============================] - 0s 30us/step - loss: 0.0950 - acc: 0.7867 - val_loss: 0.0922 - val_acc: 0.7853\n",
      "Epoch 86/100\n",
      "6484/6484 [==============================] - 0s 31us/step - loss: 0.0950 - acc: 0.7861 - val_loss: 0.0921 - val_acc: 0.7822\n",
      "Epoch 87/100\n",
      "6484/6484 [==============================] - 0s 30us/step - loss: 0.0949 - acc: 0.7844 - val_loss: 0.0921 - val_acc: 0.7878\n",
      "Epoch 88/100\n",
      "6484/6484 [==============================] - 0s 30us/step - loss: 0.0949 - acc: 0.7870 - val_loss: 0.0921 - val_acc: 0.7798\n",
      "Epoch 89/100\n",
      "6484/6484 [==============================] - 0s 30us/step - loss: 0.0948 - acc: 0.7858 - val_loss: 0.0920 - val_acc: 0.7773\n",
      "Epoch 90/100\n",
      "6484/6484 [==============================] - 0s 30us/step - loss: 0.0947 - acc: 0.7850 - val_loss: 0.0919 - val_acc: 0.7785\n",
      "Epoch 91/100\n",
      "6484/6484 [==============================] - 0s 32us/step - loss: 0.0946 - acc: 0.7845 - val_loss: 0.0918 - val_acc: 0.7804\n",
      "Epoch 92/100\n",
      "6484/6484 [==============================] - 0s 29us/step - loss: 0.0946 - acc: 0.7873 - val_loss: 0.0918 - val_acc: 0.7872\n",
      "Epoch 93/100\n",
      "6484/6484 [==============================] - 0s 30us/step - loss: 0.0946 - acc: 0.7867 - val_loss: 0.0917 - val_acc: 0.7878\n",
      "Epoch 94/100\n",
      "6484/6484 [==============================] - 0s 30us/step - loss: 0.0945 - acc: 0.7870 - val_loss: 0.0917 - val_acc: 0.7816\n",
      "Epoch 95/100\n",
      "6484/6484 [==============================] - 0s 30us/step - loss: 0.0944 - acc: 0.7856 - val_loss: 0.0916 - val_acc: 0.7896\n",
      "Epoch 96/100\n",
      "6484/6484 [==============================] - 0s 30us/step - loss: 0.0944 - acc: 0.7876 - val_loss: 0.0916 - val_acc: 0.7835\n",
      "Epoch 97/100\n",
      "6484/6484 [==============================] - 0s 31us/step - loss: 0.0944 - acc: 0.7858 - val_loss: 0.0916 - val_acc: 0.7804\n",
      "Epoch 98/100\n",
      "6484/6484 [==============================] - 0s 29us/step - loss: 0.0943 - acc: 0.7862 - val_loss: 0.0915 - val_acc: 0.7841\n",
      "Epoch 99/100\n",
      "6484/6484 [==============================] - 0s 29us/step - loss: 0.0942 - acc: 0.7882 - val_loss: 0.0915 - val_acc: 0.7878\n",
      "Epoch 100/100\n",
      "6484/6484 [==============================] - 0s 30us/step - loss: 0.0942 - acc: 0.7858 - val_loss: 0.0914 - val_acc: 0.7878\n"
     ]
    }
   ],
   "source": [
    "autoencoder.compile(metrics=['accuracy'],\n",
    "                    loss='mean_squared_error',\n",
    "                    optimizer='adam')\n",
    "\n",
    "cp = ModelCheckpoint(filepath=\"autoencoder_fraud.h5\",\n",
    "                               save_best_only=True,\n",
    "                               verbose=0)\n",
    "\n",
    "tb = TensorBoard(log_dir='./logs',\n",
    "                histogram_freq=0,\n",
    "                write_graph=True,\n",
    "                write_images=True)\n",
    "\n",
    "history = autoencoder.fit(train_x, train_x,\n",
    "                    epochs=nb_epoch,\n",
    "                    batch_size=batch_size,      \n",
    "                    shuffle=True,\n",
    "                    validation_data=(test_x, test_x),\n",
    "                    verbose=1,\n",
    "                    callbacks=[cp, tb]).history"
   ]
  },
  {
   "cell_type": "code",
   "execution_count": 0,
   "metadata": {
    "colab": {
     "base_uri": "https://localhost:8080/",
     "height": 551
    },
    "colab_type": "code",
    "id": "eKM3Ir1qrnYF",
    "outputId": "e39c1640-f10b-47b1-fb9c-3f05b2cba1c1"
   },
   "outputs": [
    {
     "data": {
      "image/png": "[encoded data removed]",
      "text/plain": [
       "<Figure size 1008x626.4 with 1 Axes>"
      ]
     },
     "metadata": {
      "tags": []
     },
     "output_type": "display_data"
    }
   ],
   "source": [
    "plt.plot(history['loss'], linewidth=2, label='Train')\n",
    "plt.plot(history['val_loss'], linewidth=2, label='Test')\n",
    "plt.legend(loc='upper right')\n",
    "plt.title('Model loss')\n",
    "plt.ylabel('Loss')\n",
    "plt.xlabel('Epoch')\n",
    "#plt.ylim(ymin=0.70,ymax=1)\n",
    "plt.show()"
   ]
  },
  {
   "cell_type": "code",
   "execution_count": 0,
   "metadata": {
    "colab": {
     "base_uri": "https://localhost:8080/",
     "height": 537
    },
    "colab_type": "code",
    "id": "2Di53tc3yVLN",
    "outputId": "67486479-af56-4e9e-d2ff-3b84fbc68926"
   },
   "outputs": [
    {
     "data": {
      "image/png": "[encoded data removed]",
      "text/plain": [
       "<Figure size 1008x626.4 with 1 Axes>"
      ]
     },
     "metadata": {
      "tags": []
     },
     "output_type": "display_data"
    }
   ],
   "source": [
    "loss = history['loss']\n",
    "val_loss = history['val_loss']\n",
    "epochs = range(100)\n",
    "plt.figure()\n",
    "plt.plot(epochs, loss, 'bo', label='Training loss')\n",
    "plt.plot(epochs, val_loss, 'b', label='Validation loss')\n",
    "plt.title('Training and validation loss')\n",
    "plt.legend()\n",
    "plt.show()"
   ]
  },
  {
   "cell_type": "code",
   "execution_count": 0,
   "metadata": {
    "colab": {},
    "colab_type": "code",
    "id": "3CFPab_JzZvb"
   },
   "outputs": [],
   "source": [
    "\n"
   ]
  },
  {
   "cell_type": "code",
   "execution_count": 0,
   "metadata": {
    "colab": {
     "base_uri": "https://localhost:8080/",
     "height": 86
    },
    "colab_type": "code",
    "id": "Cas6KfsE0B2O",
    "outputId": "6097f62e-785c-4206-a96b-f038f1e67637"
   },
   "outputs": [
    {
     "name": "stdout",
     "output_type": "stream",
     "text": [
      "[[10.227057    5.0988108   0.94158406 -0.02069296  0.83453735  0.84449768]]\n",
      "(1, 6)\n",
      "[[ 4.479551    2.2379553   0.92008585 -1.1869367  -0.10013441 -0.3194176 ]]\n"
     ]
    },
    {
     "data": {
      "text/plain": [
       "array([7.46786965])"
      ]
     },
     "execution_count": 18,
     "metadata": {
      "tags": []
     },
     "output_type": "execute_result"
    }
   ],
   "source": [
    "test_x=np.array([[10.227057], [ 5.0988108], [ 0.94158406 ],[-0.02069296 ],[0.83453735],[0.84449768]])\n",
    "x=test_x.T\n",
    "print(x)\n",
    "print(x.shape)\n",
    "test_x_predictions = autoencoder.predict(x)\n",
    "print(test_x_predictions)\n",
    "mse = np.mean(np.power(x - test_x_predictions, 2), axis=1)\n",
    "mse"
   ]
  },
  {
   "cell_type": "code",
   "execution_count": 0,
   "metadata": {
    "colab": {
     "base_uri": "https://localhost:8080/",
     "height": 34
    },
    "colab_type": "code",
    "id": "whEmFcZMjp9f",
    "outputId": "347f28ba-bab0-4349-dae7-cc9c3a96b5c2"
   },
   "outputs": [
    {
     "data": {
      "text/plain": [
       "array([7.46786965])"
      ]
     },
     "execution_count": 19,
     "metadata": {
      "tags": []
     },
     "output_type": "execute_result"
    }
   ],
   "source": [
    "mse\n"
   ]
  },
  {
   "cell_type": "code",
   "execution_count": 0,
   "metadata": {
    "colab": {
     "base_uri": "https://localhost:8080/",
     "height": 52
    },
    "colab_type": "code",
    "id": "n-DtwhaVjxBo",
    "outputId": "4f8fe1f3-b05b-4e30-fcaa-3cb848f1f5cb"
   },
   "outputs": [
    {
     "name": "stdout",
     "output_type": "stream",
     "text": [
      "(631, 6)\n",
      "(631,)\n"
     ]
    }
   ],
   "source": [
    "testtmp=test\n",
    "# testtmp=testtmp.reshape(1,test.shape[0],test.shape[1])\n",
    "print(testtmp.shape)\n",
    "\n",
    "predictions = autoencoder.predict(testtmp)\n",
    "print(predictions)\n",
    "\n",
    "mse = np.mean(np.power(test - predictions, 2), axis=1)\n",
    "\n",
    "# error_df = pd.DataFrame({'reconstruction_error': mse,\n",
    "                       # 'true_class': testtmp})\n",
    "\n",
    "# error_df.describe()"
   ]
  },
  {
   "cell_type": "code",
   "execution_count": 0,
   "metadata": {
    "colab": {
     "base_uri": "https://localhost:8080/",
     "height": 34
    },
    "colab_type": "code",
    "id": "8kyACUEEdgve",
    "outputId": "8b3bc9c6-6ea0-4f6a-9dbe-452f3cfc3bfe"
   },
   "outputs": [
    {
     "name": "stdout",
     "output_type": "stream",
     "text": [
      "0.42347020972441524\n"
     ]
    }
   ],
   "source": [
    "trainop=autoencoder.predict(train_x)\n",
    "thresh=4.5*np.mean(np.mean(np.power(trainop - train_x, 2), axis=1))\n",
    "print(thresh)"
   ]
  },
  {
   "cell_type": "code",
   "execution_count": 0,
   "metadata": {
    "colab": {
     "base_uri": "https://localhost:8080/",
     "height": 5175
    },
    "colab_type": "code",
    "id": "S2k4B8qpXD1S",
    "outputId": "8d204593-3033-4091-d3cb-9b7ec33541e0"
   },
   "outputs": [
    {
     "name": "stdout",
     "output_type": "stream",
     "text": [
      "0\n",
      "1\n",
      "2\n",
      "4\n",
      "5\n",
      "6\n",
      "7\n",
      "9\n",
      "15\n",
      "19\n",
      "39\n",
      "40\n",
      "41\n",
      "42\n",
      "43\n",
      "44\n",
      "45\n",
      "46\n",
      "47\n",
      "48\n",
      "59\n",
      "60\n",
      "61\n",
      "62\n",
      "63\n",
      "64\n",
      "65\n",
      "3082\n",
      "3093\n",
      "3098\n",
      "3102\n",
      "3104\n",
      "3106\n",
      "3107\n",
      "3108\n",
      "3493\n",
      "3494\n",
      "3498\n",
      "3499\n",
      "3501\n",
      "3502\n",
      "3503\n",
      "3504\n",
      "3505\n",
      "3506\n",
      "3507\n",
      "3508\n",
      "3509\n",
      "3510\n",
      "3511\n",
      "3512\n",
      "3513\n",
      "3514\n",
      "3515\n",
      "3516\n",
      "3522\n",
      "3523\n",
      "3524\n",
      "3525\n",
      "3526\n",
      "3527\n",
      "3528\n",
      "3529\n",
      "3530\n",
      "3535\n",
      "3536\n",
      "3537\n",
      "3538\n",
      "3539\n",
      "3540\n",
      "3541\n",
      "3633\n",
      "3634\n",
      "3635\n",
      "3636\n",
      "3637\n",
      "3638\n",
      "3640\n",
      "3641\n",
      "3642\n",
      "3643\n",
      "3644\n",
      "3645\n",
      "3646\n",
      "3647\n",
      "3648\n",
      "3649\n",
      "3650\n",
      "3651\n",
      "3652\n",
      "3653\n",
      "3654\n",
      "3655\n",
      "3656\n",
      "3657\n",
      "3658\n",
      "3659\n",
      "3660\n",
      "3661\n",
      "3662\n",
      "3663\n",
      "3664\n",
      "3665\n",
      "3666\n",
      "3667\n",
      "3668\n",
      "3669\n",
      "3670\n",
      "3671\n",
      "3672\n",
      "3673\n",
      "3674\n",
      "3675\n",
      "3676\n",
      "3677\n",
      "3678\n",
      "3679\n",
      "3680\n",
      "3681\n",
      "3682\n",
      "3683\n",
      "3684\n",
      "3685\n",
      "3686\n",
      "3687\n",
      "3688\n",
      "3689\n",
      "3690\n",
      "3691\n",
      "3692\n",
      "3693\n",
      "3694\n",
      "3695\n",
      "3696\n",
      "3697\n",
      "3698\n",
      "3699\n",
      "3700\n",
      "3701\n",
      "3702\n",
      "3703\n",
      "3704\n",
      "3705\n",
      "3706\n",
      "3707\n",
      "3708\n",
      "3709\n",
      "3710\n",
      "3711\n",
      "3712\n",
      "3713\n",
      "3714\n",
      "3715\n",
      "3716\n",
      "3717\n",
      "3718\n",
      "3719\n",
      "3720\n",
      "3721\n",
      "3722\n",
      "3723\n",
      "3724\n",
      "3725\n",
      "3726\n",
      "3727\n",
      "3728\n",
      "3729\n",
      "3730\n",
      "3731\n",
      "3732\n",
      "3733\n",
      "3734\n",
      "3735\n",
      "3736\n",
      "3737\n",
      "3738\n",
      "3739\n",
      "3740\n",
      "3741\n",
      "3742\n",
      "3743\n",
      "3744\n",
      "3745\n",
      "3746\n",
      "3747\n",
      "3748\n",
      "3749\n",
      "3750\n",
      "3751\n",
      "3752\n",
      "3753\n",
      "3754\n",
      "3755\n",
      "3756\n",
      "3757\n",
      "3758\n",
      "3759\n",
      "3760\n",
      "3761\n",
      "3762\n",
      "3763\n",
      "3764\n",
      "3765\n",
      "3766\n",
      "3767\n",
      "3768\n",
      "3769\n",
      "3770\n",
      "3771\n",
      "3772\n",
      "3773\n",
      "3774\n",
      "3775\n",
      "3776\n",
      "3777\n",
      "3778\n",
      "3779\n",
      "3780\n",
      "3781\n",
      "3782\n",
      "3783\n",
      "3784\n",
      "3785\n",
      "3786\n",
      "3787\n",
      "3788\n",
      "3789\n",
      "3790\n",
      "3791\n",
      "3792\n",
      "3793\n",
      "3794\n",
      "3795\n",
      "3796\n",
      "3797\n",
      "3798\n",
      "3799\n",
      "3800\n",
      "3801\n",
      "5178\n",
      "5179\n",
      "5180\n",
      "5181\n",
      "5182\n",
      "5183\n",
      "5186\n",
      "5194\n",
      "5195\n",
      "5216\n",
      "5217\n",
      "5457\n",
      "5458\n",
      "5460\n",
      "5464\n",
      "5465\n",
      "5466\n",
      "5467\n",
      "5468\n",
      "5469\n",
      "5554\n",
      "5660\n",
      "5678\n",
      "5679\n",
      "5681\n",
      "5683\n",
      "5687\n",
      "5707\n",
      "5710\n",
      "5711\n",
      "5712\n",
      "5715\n",
      "5717\n",
      "5718\n",
      "5720\n",
      "5724\n",
      "5726\n",
      "5727\n",
      "5728\n",
      "5729\n",
      "5730\n",
      "5731\n",
      "5732\n",
      "5733\n",
      "5927\n",
      "6155\n",
      "6156\n",
      "6157\n",
      "6158\n",
      "6159\n",
      "6160\n",
      "6161\n",
      "6162\n",
      "6163\n",
      "6164\n",
      "6166\n",
      "6167\n",
      "6169\n"
     ]
    }
   ],
   "source": [
    "n=df.values.shape[0]\n",
    "labelstrue=df['labels'].values\n",
    "\n",
    "tmp=df\n",
    "tmp=tmp.drop(['id', 'time','labels'], axis=1)\n",
    "\n",
    "tmp['vol'] = StandardScaler().fit_transform(tmp['vol'].values.reshape(-1, 1))\n",
    "tmp['ph'] = StandardScaler().fit_transform(tmp['ph'].values.reshape(-1, 1))\n",
    "tmp['solids'] = StandardScaler().fit_transform(tmp['solids'].values.reshape(-1, 1))\n",
    "tmp['hardness'] = StandardScaler().fit_transform(tmp['hardness'].values.reshape(-1, 1))\n",
    "tmp['oil'] = StandardScaler().fit_transform(tmp['oil'].values.reshape(-1, 1))\n",
    "tmp['bod'] = StandardScaler().fit_transform(tmp['bod'].values.reshape(-1, 1))\n",
    "\n",
    "tmp=tmp.values\n",
    "\n",
    "labelspred=np.ones((n,),dtype=bool)\n",
    "\n",
    "pred=autoencoder.predict(tmp)\n",
    "\n",
    "err=np.mean(np.power(pred-tmp, 2), axis=1)\n",
    "\n",
    "for i in range(0,n):\n",
    "  if err[i]>thresh:\n",
    "    labelspred[i]=0\n",
    "    print(i)\n",
    "  "
   ]
  },
  {
   "cell_type": "code",
   "execution_count": 0,
   "metadata": {
    "colab": {
     "base_uri": "https://localhost:8080/",
     "height": 86
    },
    "colab_type": "code",
    "id": "6dwNPyo2pPII",
    "outputId": "c8780477-7dc5-47d0-e147-e2b31eb9d1f7"
   },
   "outputs": [
    {
     "name": "stdout",
     "output_type": "stream",
     "text": [
      "Accuracy score  0.9283424908424909\n",
      "Precision score  [0.50841751 0.94312122]\n",
      "Recall score  [0.23930269 0.98198643]\n",
      "f1 score  [0.32543103 0.96216151]\n"
     ]
    }
   ],
   "source": [
    "from sklearn import metrics\n",
    "\n",
    "\n",
    "#metrics\n",
    "print(\"Accuracy score \",metrics.accuracy_score(labelstrue, labelspred, normalize=True))\n",
    "print(\"Precision score \",metrics.precision_score(labelstrue,labelspred,average=None))\n",
    "print(\"Recall score \",metrics.recall_score(labelstrue, labelspred, average=None))\n",
    "print(\"f1 score \",metrics.f1_score(labelstrue, labelspred, average=None))"
   ]
  },
  {
   "cell_type": "code",
   "execution_count": 0,
   "metadata": {
    "colab": {
     "base_uri": "https://localhost:8080/",
     "height": 34
    },
    "colab_type": "code",
    "id": "5vQuMxHoj8wa",
    "outputId": "1d5fb2bb-7b5b-431a-cb1b-5f3067a69f2e"
   },
   "outputs": [
    {
     "data": {
      "text/plain": [
       "array([[0., 0.]], dtype=float32)"
      ]
     },
     "execution_count": 18,
     "metadata": {
      "tags": []
     },
     "output_type": "execute_result"
    }
   ],
   "source": [
    "test_x_predictions"
   ]
  },
  {
   "cell_type": "code",
   "execution_count": 0,
   "metadata": {
    "colab": {},
    "colab_type": "code",
    "id": "5QR10iWxuk1h"
   },
   "outputs": [],
   "source": []
  }
 ],
 "metadata": {
  "accelerator": "GPU",
  "colab": {
   "collapsed_sections": [],
   "name": "encoder_wrc.ipynb",
   "provenance": [],
   "version": "0.3.2"
  },
  "kernelspec": {
   "display_name": "Python 3",
   "language": "python",
   "name": "python3"
  },
  "language_info": {
   "codemirror_mode": {
    "name": "ipython",
    "version": 3
   },
   "file_extension": ".py",
   "mimetype": "text/x-python",
   "name": "python",
   "nbconvert_exporter": "python",
   "pygments_lexer": "ipython3",
   "version": "3.5.2"
  }
 },
 "nbformat": 4,
 "nbformat_minor": 1
}
