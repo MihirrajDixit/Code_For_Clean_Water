{
  "nbformat": 4,
  "nbformat_minor": 0,
  "metadata": {
    "colab": {
      "name": "lstm1.ipynb",
      "version": "0.3.2",
      "provenance": [],
      "collapsed_sections": []
    },
    "kernelspec": {
      "name": "python3",
      "display_name": "Python 3"
    },
    "accelerator": "GPU"
  },
  "cells": [
    {
      "cell_type": "code",
      "metadata": {
        "id": "uEWiPxdEhnWo",
        "colab_type": "code",
        "outputId": "19257cf8-06cf-4ec2-bdd6-4acf12ee3fef",
        "colab": {
          "resources": {
            "http://localhost:8080/nbextensions/google.colab/files.js": {
              "data": "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",
              "ok": true,
              "headers": [
                [
                  "content-type",
                  "application/javascript"
                ]
              ],
              "status": 200,
              "status_text": "OK"
            }
          },
          "base_uri": "https://localhost:8080/",
          "height": 100
        }
      },
      "source": [
        "from google.colab import files\n",
        "\n",
        "uploaded = files.upload()\n",
        "\n",
        "for fn in uploaded.keys():\n",
        "  print('User uploaded file \"{name}\" with length {length} bytes'.format(\n",
        "      name=fn, length=len(uploaded[fn])))"
      ],
      "execution_count": 0,
      "outputs": [
        {
          "output_type": "display_data",
          "data": {
            "text/html": [
              "\n",
              "     <input type=\"file\" id=\"files-85f6dbe4-d01a-4104-9495-82d453026c11\" name=\"files[]\" multiple disabled />\n",
              "     <output id=\"result-85f6dbe4-d01a-4104-9495-82d453026c11\">\n",
              "      Upload widget is only available when the cell has been executed in the\n",
              "      current browser session. Please rerun this cell to enable.\n",
              "      </output>\n",
              "      <script src=\"/nbextensions/google.colab/files.js\"></script> "
            ],
            "text/plain": [
              "<IPython.core.display.HTML object>"
            ]
          },
          "metadata": {
            "tags": []
          }
        },
        {
          "output_type": "stream",
          "text": [
            "Saving IND115datalabels.csv to IND115datalabels.csv\n",
            "User uploaded file \"IND115datalabels.csv\" with length 157565 bytes\n"
          ],
          "name": "stdout"
        }
      ]
    },
    {
      "cell_type": "code",
      "metadata": {
        "id": "wlYxwXFeLA_h",
        "colab_type": "code",
        "colab": {}
      },
      "source": [
        ""
      ],
      "execution_count": 0,
      "outputs": []
    },
    {
      "cell_type": "code",
      "metadata": {
        "id": "uF7Ifj6EW-Ck",
        "colab_type": "code",
        "colab": {}
      },
      "source": [
        "from IPython.core.interactiveshell import InteractiveShell\n",
        "from IPython.display import HTML\n",
        "\n",
        "InteractiveShell.ast_node_interactivity = 'all'\n",
        "\n",
        "import warnings\n",
        "warnings.filterwarnings('ignore', category = RuntimeWarning)\n",
        "warnings.filterwarnings('ignore', category = UserWarning)\n",
        "\n",
        "\n",
        "\n",
        "from sklearn.model_selection import train_test_split\n",
        "from sklearn import preprocessing\n",
        "import pandas as pd\n",
        "import numpy as np\n",
        "# from utils import get_data, generate_output, guess_human, seed_sequence, get_embeddings, find_closest"
      ],
      "execution_count": 0,
      "outputs": []
    },
    {
      "cell_type": "code",
      "metadata": {
        "id": "d7stcrmljEiZ",
        "colab_type": "code",
        "colab": {}
      },
      "source": [
        "data = pd.read_csv('./IND115datalabels.csv')\n",
        "# data2= pd.read_csv('./IND115data.csv')"
      ],
      "execution_count": 0,
      "outputs": []
    },
    {
      "cell_type": "code",
      "metadata": {
        "id": "oN4XTECf6QPO",
        "colab_type": "code",
        "colab": {}
      },
      "source": [
        "diff=data.values[:,0]\n",
        "\n",
        "ndiff=diff.shape[0]\n",
        "\n",
        "for i in range(1,ndiff):\n",
        "  diff[i]=diff[i]-diff[i-1]\n",
        "  \n"
      ],
      "execution_count": 0,
      "outputs": []
    },
    {
      "cell_type": "code",
      "metadata": {
        "id": "-E4qWoFgj-rA",
        "colab_type": "code",
        "outputId": "82fae8bd-6ce6-4536-81f0-00a7bdb065b1",
        "colab": {
          "base_uri": "https://localhost:8080/",
          "height": 1163
        }
      },
      "source": [
        "xm=data.values[:,0]\n",
        "ym=data.values[:,1]\n",
        "timesteps=10\n",
        "n=2\n",
        "\n",
        "labelstrue=data.values[:,2]\n",
        "\n",
        "m=xm.shape[0]\n",
        "\n",
        "ux=np.mean(xm)\n",
        "uy=np.mean(ym)\n",
        "\n",
        "rx=np.max(xm)-np.min(xm)\n",
        "ry=np.max(ym)-np.min(ym)\n",
        "\n",
        "#m,n=xm.shape\n",
        "\n",
        "#xm=preprocessing.MinMaxScaler(feature_range=(-1,1)).fit_transform(xm.reshape(-1,1))\n",
        "#ym=preprocessing.MinMaxScaler(feature_range=(-1,1)).fit_transform(ym.reshape(-1,1))\n",
        "\n",
        "xm=(xm-ux)/rx\n",
        "ym=(ym-uy)/ry\n",
        "\n",
        "xtmp=np.empty((m,2))\n",
        "xtmp[:,0]=xm\n",
        "xtmp[:,1]=ym\n",
        "\n",
        "xnew=np.array(xtmp[0:timesteps,:]).reshape(1,-1,n)\n",
        "print(xnew)\n",
        "\n",
        "\n",
        "for i in range(1,m-timesteps):\n",
        "  xnew=np.append(xnew,np.array(xtmp[i:i+timesteps,:]).reshape(1,-1,n),axis=0)\n",
        "\n",
        "print(xnew.shape)\n",
        "\n",
        "\n",
        "new_m=xnew.shape[0]\n",
        "\n",
        "# y=ym[:new_m]\n",
        "y=labelstrue[timesteps:]\n",
        "\n",
        "y.shape\n",
        "\n",
        "print(xnew[:5,:,:])\n",
        "print(y[:5])"
      ],
      "execution_count": 0,
      "outputs": [
        {
          "output_type": "stream",
          "text": [
            "[[[ 0.14038742 -0.09404439]\n",
            "  [ 0.16359232 -0.08098864]\n",
            "  [ 0.13031737 -0.06352216]\n",
            "  [ 0.12287428 -0.07199076]\n",
            "  [ 0.14651702 -0.07181433]\n",
            "  [ 0.10317201 -0.07887149]\n",
            "  [ 0.11105292 -0.08398793]\n",
            "  [ 0.10273418 -0.07798934]\n",
            "  [ 0.07427533 -0.07922435]\n",
            "  [ 0.10229635 -0.06334573]]]\n",
            "(8750, 10, 2)\n"
          ],
          "name": "stdout"
        },
        {
          "output_type": "execute_result",
          "data": {
            "text/plain": [
              "(8750,)"
            ]
          },
          "metadata": {
            "tags": []
          },
          "execution_count": 4
        },
        {
          "output_type": "stream",
          "text": [
            "[[[ 0.14038742 -0.09404439]\n",
            "  [ 0.16359232 -0.08098864]\n",
            "  [ 0.13031737 -0.06352216]\n",
            "  [ 0.12287428 -0.07199076]\n",
            "  [ 0.14651702 -0.07181433]\n",
            "  [ 0.10317201 -0.07887149]\n",
            "  [ 0.11105292 -0.08398793]\n",
            "  [ 0.10273418 -0.07798934]\n",
            "  [ 0.07427533 -0.07922435]\n",
            "  [ 0.10229635 -0.06334573]]\n",
            "\n",
            " [[ 0.16359232 -0.08098864]\n",
            "  [ 0.13031737 -0.06352216]\n",
            "  [ 0.12287428 -0.07199076]\n",
            "  [ 0.14651702 -0.07181433]\n",
            "  [ 0.10317201 -0.07887149]\n",
            "  [ 0.11105292 -0.08398793]\n",
            "  [ 0.10273418 -0.07798934]\n",
            "  [ 0.07427533 -0.07922435]\n",
            "  [ 0.10229635 -0.06334573]\n",
            "  [ 0.11937166 -0.07340219]]\n",
            "\n",
            " [[ 0.13031737 -0.06352216]\n",
            "  [ 0.12287428 -0.07199076]\n",
            "  [ 0.14651702 -0.07181433]\n",
            "  [ 0.10317201 -0.07887149]\n",
            "  [ 0.11105292 -0.08398793]\n",
            "  [ 0.10273418 -0.07798934]\n",
            "  [ 0.07427533 -0.07922435]\n",
            "  [ 0.10229635 -0.06334573]\n",
            "  [ 0.11937166 -0.07340219]\n",
            "  [ 0.09923155 -0.06952075]]\n",
            "\n",
            " [[ 0.12287428 -0.07199076]\n",
            "  [ 0.14651702 -0.07181433]\n",
            "  [ 0.10317201 -0.07887149]\n",
            "  [ 0.11105292 -0.08398793]\n",
            "  [ 0.10273418 -0.07798934]\n",
            "  [ 0.07427533 -0.07922435]\n",
            "  [ 0.10229635 -0.06334573]\n",
            "  [ 0.11937166 -0.07340219]\n",
            "  [ 0.09923155 -0.06952075]\n",
            "  [ 0.12506343 -0.07357862]]\n",
            "\n",
            " [[ 0.14651702 -0.07181433]\n",
            "  [ 0.10317201 -0.07887149]\n",
            "  [ 0.11105292 -0.08398793]\n",
            "  [ 0.10273418 -0.07798934]\n",
            "  [ 0.07427533 -0.07922435]\n",
            "  [ 0.10229635 -0.06334573]\n",
            "  [ 0.11937166 -0.07340219]\n",
            "  [ 0.09923155 -0.06952075]\n",
            "  [ 0.12506343 -0.07357862]\n",
            "  [ 0.08128059 -0.06846217]]]\n",
            "[1. 1. 1. 1. 1.]\n"
          ],
          "name": "stdout"
        }
      ]
    },
    {
      "cell_type": "code",
      "metadata": {
        "id": "dxtFh5Xx7RMb",
        "colab_type": "code",
        "outputId": "a7dacae7-f6b5-4ff0-a70d-15461a38294c",
        "colab": {
          "base_uri": "https://localhost:8080/",
          "height": 278
        }
      },
      "source": [
        "data.shape\n",
        "print(xnew[:5,:,0])\n",
        "print(y[:5])"
      ],
      "execution_count": 0,
      "outputs": [
        {
          "output_type": "execute_result",
          "data": {
            "text/plain": [
              "(8760, 2)"
            ]
          },
          "metadata": {
            "tags": []
          },
          "execution_count": 30
        },
        {
          "output_type": "stream",
          "text": [
            "[[0.00024512 0.00024512 0.00024512 0.00024512 0.00024512 0.00024512\n",
            "  0.00024512 0.00024512 0.00024512 0.00024512]\n",
            " [0.00024512 0.00024512 0.00024512 0.00024512 0.00024512 0.00024512\n",
            "  0.00024512 0.00024512 0.00024512 0.00024512]\n",
            " [0.00024512 0.00024512 0.00024512 0.00024512 0.00024512 0.00024512\n",
            "  0.00024512 0.00024512 0.00024512 0.00024512]\n",
            " [0.00024512 0.00024512 0.00024512 0.00024512 0.00024512 0.00024512\n",
            "  0.00024512 0.00024512 0.00024512 0.00024512]\n",
            " [0.00024512 0.00024512 0.00024512 0.00024512 0.00024512 0.00024512\n",
            "  0.00024512 0.00024512 0.00024512 0.00024512]]\n",
            "[[-0.48997996]\n",
            " [-0.50400802]\n",
            " [-0.60320641]\n",
            " [-0.62324649]\n",
            " [-0.68036072]]\n"
          ],
          "name": "stdout"
        }
      ]
    },
    {
      "cell_type": "code",
      "metadata": {
        "id": "sXxGFed1jOaE",
        "colab_type": "code",
        "outputId": "5133ec70-8968-45a5-de05-7978062b257d",
        "colab": {
          "base_uri": "https://localhost:8080/",
          "height": 1910
        }
      },
      "source": [
        "X=xnew\n",
        "\n",
        "#X_train, X_test, y_train, y_test = train_test_split(X,y,test_size=0.2,shuffle=False)\n",
        "\n",
        "X_train=X[2000:,:,:]\n",
        "y_train=y[2000:]\n",
        "X_test=X[:2000,:,:]\n",
        "y_test=y[:2000]\n",
        "\n",
        "X_train.shape\n",
        "\n",
        "print(\"Xtrain\",X_train[:5,:,:])\n",
        "#print(\"ytrain\",y_train[:5])\n",
        "\n",
        "print(\"Xtest\",X_test[:5,:,:])\n",
        "#print(\"ytest\",y_test[:5])\n",
        "\n",
        "X_test.shape"
      ],
      "execution_count": 0,
      "outputs": [
        {
          "output_type": "execute_result",
          "data": {
            "text/plain": [
              "(6750, 10, 2)"
            ]
          },
          "metadata": {
            "tags": []
          },
          "execution_count": 5
        },
        {
          "output_type": "stream",
          "text": [
            "Xtrain [[[-0.21075094  0.16918779]\n",
            "  [-0.19542694  0.18365497]\n",
            "  [-0.16959507  0.18506641]\n",
            "  [-0.1993674   0.18400783]\n",
            "  [-0.24183675  0.20112145]\n",
            "  [-0.25453377  0.21135434]\n",
            "  [-0.25584726  0.21523578]\n",
            "  [-0.29919227  0.21523578]\n",
            "  [-0.31626757  0.20817862]\n",
            "  [-0.33378071  0.21523578]]\n",
            "\n",
            " [[-0.19542694  0.18365497]\n",
            "  [-0.16959507  0.18506641]\n",
            "  [-0.1993674   0.18400783]\n",
            "  [-0.24183675  0.20112145]\n",
            "  [-0.25453377  0.21135434]\n",
            "  [-0.25584726  0.21523578]\n",
            "  [-0.29919227  0.21523578]\n",
            "  [-0.31626757  0.20817862]\n",
            "  [-0.33378071  0.21523578]\n",
            "  [-0.32808894  0.21523578]]\n",
            "\n",
            " [[-0.16959507  0.18506641]\n",
            "  [-0.1993674   0.18400783]\n",
            "  [-0.24183675  0.20112145]\n",
            "  [-0.25453377  0.21135434]\n",
            "  [-0.25584726  0.21523578]\n",
            "  [-0.29919227  0.21523578]\n",
            "  [-0.31626757  0.20817862]\n",
            "  [-0.33378071  0.21523578]\n",
            "  [-0.32808894  0.21523578]\n",
            "  [-0.30532186  0.20764933]]\n",
            "\n",
            " [[-0.1993674   0.18400783]\n",
            "  [-0.24183675  0.20112145]\n",
            "  [-0.25453377  0.21135434]\n",
            "  [-0.25584726  0.21523578]\n",
            "  [-0.29919227  0.21523578]\n",
            "  [-0.31626757  0.20817862]\n",
            "  [-0.33378071  0.21523578]\n",
            "  [-0.32808894  0.21523578]\n",
            "  [-0.30532186  0.20764933]\n",
            "  [-0.29875444  0.20076859]]\n",
            "\n",
            " [[-0.24183675  0.20112145]\n",
            "  [-0.25453377  0.21135434]\n",
            "  [-0.25584726  0.21523578]\n",
            "  [-0.29919227  0.21523578]\n",
            "  [-0.31626757  0.20817862]\n",
            "  [-0.33378071  0.21523578]\n",
            "  [-0.32808894  0.21523578]\n",
            "  [-0.30532186  0.20764933]\n",
            "  [-0.29875444  0.20076859]\n",
            "  [-0.31495409  0.20888433]]]\n",
            "Xtest [[[ 0.14038742 -0.09404439]\n",
            "  [ 0.16359232 -0.08098864]\n",
            "  [ 0.13031737 -0.06352216]\n",
            "  [ 0.12287428 -0.07199076]\n",
            "  [ 0.14651702 -0.07181433]\n",
            "  [ 0.10317201 -0.07887149]\n",
            "  [ 0.11105292 -0.08398793]\n",
            "  [ 0.10273418 -0.07798934]\n",
            "  [ 0.07427533 -0.07922435]\n",
            "  [ 0.10229635 -0.06334573]]\n",
            "\n",
            " [[ 0.16359232 -0.08098864]\n",
            "  [ 0.13031737 -0.06352216]\n",
            "  [ 0.12287428 -0.07199076]\n",
            "  [ 0.14651702 -0.07181433]\n",
            "  [ 0.10317201 -0.07887149]\n",
            "  [ 0.11105292 -0.08398793]\n",
            "  [ 0.10273418 -0.07798934]\n",
            "  [ 0.07427533 -0.07922435]\n",
            "  [ 0.10229635 -0.06334573]\n",
            "  [ 0.11937166 -0.07340219]]\n",
            "\n",
            " [[ 0.13031737 -0.06352216]\n",
            "  [ 0.12287428 -0.07199076]\n",
            "  [ 0.14651702 -0.07181433]\n",
            "  [ 0.10317201 -0.07887149]\n",
            "  [ 0.11105292 -0.08398793]\n",
            "  [ 0.10273418 -0.07798934]\n",
            "  [ 0.07427533 -0.07922435]\n",
            "  [ 0.10229635 -0.06334573]\n",
            "  [ 0.11937166 -0.07340219]\n",
            "  [ 0.09923155 -0.06952075]]\n",
            "\n",
            " [[ 0.12287428 -0.07199076]\n",
            "  [ 0.14651702 -0.07181433]\n",
            "  [ 0.10317201 -0.07887149]\n",
            "  [ 0.11105292 -0.08398793]\n",
            "  [ 0.10273418 -0.07798934]\n",
            "  [ 0.07427533 -0.07922435]\n",
            "  [ 0.10229635 -0.06334573]\n",
            "  [ 0.11937166 -0.07340219]\n",
            "  [ 0.09923155 -0.06952075]\n",
            "  [ 0.12506343 -0.07357862]]\n",
            "\n",
            " [[ 0.14651702 -0.07181433]\n",
            "  [ 0.10317201 -0.07887149]\n",
            "  [ 0.11105292 -0.08398793]\n",
            "  [ 0.10273418 -0.07798934]\n",
            "  [ 0.07427533 -0.07922435]\n",
            "  [ 0.10229635 -0.06334573]\n",
            "  [ 0.11937166 -0.07340219]\n",
            "  [ 0.09923155 -0.06952075]\n",
            "  [ 0.12506343 -0.07357862]\n",
            "  [ 0.08128059 -0.06846217]]]\n"
          ],
          "name": "stdout"
        },
        {
          "output_type": "execute_result",
          "data": {
            "text/plain": [
              "(2000, 10, 2)"
            ]
          },
          "metadata": {
            "tags": []
          },
          "execution_count": 5
        }
      ]
    },
    {
      "cell_type": "code",
      "metadata": {
        "id": "PjqtYtyj-vdy",
        "colab_type": "code",
        "outputId": "564d437e-d60f-4ed8-fce2-21e8634e8065",
        "colab": {
          "base_uri": "https://localhost:8080/",
          "height": 34
        }
      },
      "source": [
        "from keras.models import Sequential, load_model\n",
        "from keras.layers import LSTM, Dense, Dropout, Embedding, Masking, Bidirectional\n",
        "from keras.optimizers import Adam, RMSprop, SGD\n",
        "\n",
        "from keras.utils import plot_model"
      ],
      "execution_count": 0,
      "outputs": [
        {
          "output_type": "stream",
          "text": [
            "Using TensorFlow backend.\n"
          ],
          "name": "stderr"
        }
      ]
    },
    {
      "cell_type": "code",
      "metadata": {
        "id": "Y7FNKKc7-0ED",
        "colab_type": "code",
        "outputId": "10e9235b-90ef-42bf-f004-613521a54325",
        "colab": {
          "base_uri": "https://localhost:8080/",
          "height": 367
        }
      },
      "source": [
        "model = Sequential()\n",
        "\n",
        "# timesteps=5\n",
        "\n",
        "\n",
        "# Recurrent layer 1\n",
        "model.add(\n",
        "    LSTM(\n",
        "        32,input_shape=(timesteps,n),return_sequences=False, dropout=0.1,\n",
        "        recurrent_dropout=0.1))\n",
        "\n",
        "\n",
        "# Fully connected layer 2\n",
        "model.add(Dense(10, activation='tanh'))\n",
        "\n",
        "# Fully connected layer 3\n",
        "# model.add(Dense(5, activation='tanh'))\n",
        "  \n",
        "# Fully connected layer 4\n",
        "model.add(Dense(1, activation='sigmoid'))\n",
        "  \n",
        "# Dropout for regularization\n",
        "#model.add(Dropout(0.5))\n",
        "\n",
        "#rmsprop=RMSprop(lr=0.01, rho=0.9, epsilon=None, decay=0.0)    #lr=0.001\n",
        "\n",
        "#model.compile(\n",
        "#    optimizer=rmsprop, loss='mean_squared_error')\n",
        "\n",
        "\n",
        "# sgd=SGD(lr=0.01, momentum=0.0, decay=0.0, nesterov=False)\n",
        "\n",
        "# model.compile(\n",
        "  #  optimizer=sgd, loss='mean_squared_error')\n",
        "\n",
        "# Compile the model\n",
        "adam=Adam(lr=0.001, beta_1=0.9, beta_2=0.999, epsilon=None, decay=0.0, amsgrad=False)\n",
        "\n",
        "model.compile(\n",
        "    optimizer=adam, loss='binary_crossentropy')\n",
        "\n",
        "\n",
        "model.summary()"
      ],
      "execution_count": 0,
      "outputs": [
        {
          "output_type": "stream",
          "text": [
            "WARNING:tensorflow:From /usr/local/lib/python3.6/dist-packages/tensorflow/python/framework/op_def_library.py:263: colocate_with (from tensorflow.python.framework.ops) is deprecated and will be removed in a future version.\n",
            "Instructions for updating:\n",
            "Colocations handled automatically by placer.\n",
            "WARNING:tensorflow:From /usr/local/lib/python3.6/dist-packages/keras/backend/tensorflow_backend.py:3445: calling dropout (from tensorflow.python.ops.nn_ops) with keep_prob is deprecated and will be removed in a future version.\n",
            "Instructions for updating:\n",
            "Please use `rate` instead of `keep_prob`. Rate should be set to `rate = 1 - keep_prob`.\n",
            "_________________________________________________________________\n",
            "Layer (type)                 Output Shape              Param #   \n",
            "=================================================================\n",
            "lstm_1 (LSTM)                (None, 32)                4480      \n",
            "_________________________________________________________________\n",
            "dense_1 (Dense)              (None, 10)                330       \n",
            "_________________________________________________________________\n",
            "dense_2 (Dense)              (None, 1)                 11        \n",
            "=================================================================\n",
            "Total params: 4,821\n",
            "Trainable params: 4,821\n",
            "Non-trainable params: 0\n",
            "_________________________________________________________________\n"
          ],
          "name": "stdout"
        }
      ]
    },
    {
      "cell_type": "code",
      "metadata": {
        "id": "z5DbQoKODGfh",
        "colab_type": "code",
        "outputId": "bc9ea0b1-4bf3-4880-8ec6-90a1c8dca67a",
        "colab": {
          "base_uri": "https://localhost:8080/",
          "height": 1861
        }
      },
      "source": [
        "from keras.models import load_model\n",
        "print(X_train.shape)\n",
        "\n",
        "\n",
        "# Load in model and demonstrate training\n",
        "# model = load_model('../models/train-embeddings-rnn.h5')\n",
        "h = model.fit(X_train, y=y_train, epochs = 50, batch_size = 10, \n",
        "          validation_data = (X_test, y_test), \n",
        "          verbose = 1)"
      ],
      "execution_count": 0,
      "outputs": [
        {
          "output_type": "stream",
          "text": [
            "(6750, 10, 2)\n",
            "WARNING:tensorflow:From /usr/local/lib/python3.6/dist-packages/tensorflow/python/ops/math_ops.py:3066: to_int32 (from tensorflow.python.ops.math_ops) is deprecated and will be removed in a future version.\n",
            "Instructions for updating:\n",
            "Use tf.cast instead.\n",
            "Train on 6750 samples, validate on 2000 samples\n",
            "Epoch 1/50\n",
            "6750/6750 [==============================] - 19s 3ms/step - loss: 0.1996 - val_loss: 0.1337\n",
            "Epoch 2/50\n",
            "6750/6750 [==============================] - 14s 2ms/step - loss: 0.1622 - val_loss: 0.1099\n",
            "Epoch 3/50\n",
            "6750/6750 [==============================] - 14s 2ms/step - loss: 0.1529 - val_loss: 0.1211\n",
            "Epoch 4/50\n",
            "6750/6750 [==============================] - 14s 2ms/step - loss: 0.1470 - val_loss: 0.1127\n",
            "Epoch 5/50\n",
            "6750/6750 [==============================] - 13s 2ms/step - loss: 0.1400 - val_loss: 0.1012\n",
            "Epoch 6/50\n",
            "6750/6750 [==============================] - 13s 2ms/step - loss: 0.1438 - val_loss: 0.0990\n",
            "Epoch 7/50\n",
            "6750/6750 [==============================] - 14s 2ms/step - loss: 0.1334 - val_loss: 0.1027\n",
            "Epoch 8/50\n",
            "6750/6750 [==============================] - 14s 2ms/step - loss: 0.1310 - val_loss: 0.0930\n",
            "Epoch 9/50\n",
            "6750/6750 [==============================] - 13s 2ms/step - loss: 0.1272 - val_loss: 0.0921\n",
            "Epoch 10/50\n",
            "6750/6750 [==============================] - 13s 2ms/step - loss: 0.1284 - val_loss: 0.0751\n",
            "Epoch 11/50\n",
            "6750/6750 [==============================] - 13s 2ms/step - loss: 0.1240 - val_loss: 0.0907\n",
            "Epoch 12/50\n",
            "6750/6750 [==============================] - 13s 2ms/step - loss: 0.1257 - val_loss: 0.0752\n",
            "Epoch 13/50\n",
            "6750/6750 [==============================] - 15s 2ms/step - loss: 0.1195 - val_loss: 0.0932\n",
            "Epoch 14/50\n",
            "6750/6750 [==============================] - 13s 2ms/step - loss: 0.1212 - val_loss: 0.0981\n",
            "Epoch 15/50\n",
            "6750/6750 [==============================] - 13s 2ms/step - loss: 0.1128 - val_loss: 0.0864\n",
            "Epoch 16/50\n",
            "6750/6750 [==============================] - 13s 2ms/step - loss: 0.1007 - val_loss: 0.0819\n",
            "Epoch 17/50\n",
            "6750/6750 [==============================] - 13s 2ms/step - loss: 0.0980 - val_loss: 0.0762\n",
            "Epoch 18/50\n",
            "6750/6750 [==============================] - 13s 2ms/step - loss: 0.0981 - val_loss: 0.0863\n",
            "Epoch 19/50\n",
            "6750/6750 [==============================] - 15s 2ms/step - loss: 0.0963 - val_loss: 0.0867\n",
            "Epoch 20/50\n",
            "6750/6750 [==============================] - 13s 2ms/step - loss: 0.0935 - val_loss: 0.0942\n",
            "Epoch 21/50\n",
            "6750/6750 [==============================] - 13s 2ms/step - loss: 0.0934 - val_loss: 0.0842\n",
            "Epoch 22/50\n",
            "6750/6750 [==============================] - 13s 2ms/step - loss: 0.0898 - val_loss: 0.1475\n",
            "Epoch 23/50\n",
            "6750/6750 [==============================] - 14s 2ms/step - loss: 0.0917 - val_loss: 0.1059\n",
            "Epoch 24/50\n",
            "6750/6750 [==============================] - 14s 2ms/step - loss: 0.0892 - val_loss: 0.1178\n",
            "Epoch 25/50\n",
            "6750/6750 [==============================] - 15s 2ms/step - loss: 0.0857 - val_loss: 0.0943\n",
            "Epoch 26/50\n",
            "6750/6750 [==============================] - 14s 2ms/step - loss: 0.0895 - val_loss: 0.0889\n",
            "Epoch 27/50\n",
            "6750/6750 [==============================] - 13s 2ms/step - loss: 0.0893 - val_loss: 0.1206\n",
            "Epoch 28/50\n",
            "6750/6750 [==============================] - 13s 2ms/step - loss: 0.0850 - val_loss: 0.1141\n",
            "Epoch 29/50\n",
            "6750/6750 [==============================] - 13s 2ms/step - loss: 0.0846 - val_loss: 0.0927\n",
            "Epoch 30/50\n",
            "6750/6750 [==============================] - 13s 2ms/step - loss: 0.0849 - val_loss: 0.1026\n",
            "Epoch 31/50\n",
            "6750/6750 [==============================] - 15s 2ms/step - loss: 0.0835 - val_loss: 0.1012\n",
            "Epoch 32/50\n",
            "6750/6750 [==============================] - 13s 2ms/step - loss: 0.0838 - val_loss: 0.1002\n",
            "Epoch 33/50\n",
            "6750/6750 [==============================] - 13s 2ms/step - loss: 0.0807 - val_loss: 0.1071\n",
            "Epoch 34/50\n",
            "6750/6750 [==============================] - 14s 2ms/step - loss: 0.0824 - val_loss: 0.1348\n",
            "Epoch 35/50\n",
            "6750/6750 [==============================] - 14s 2ms/step - loss: 0.0816 - val_loss: 0.1355\n",
            "Epoch 36/50\n",
            "6750/6750 [==============================] - 14s 2ms/step - loss: 0.0804 - val_loss: 0.1283\n",
            "Epoch 37/50\n",
            "6750/6750 [==============================] - 14s 2ms/step - loss: 0.0818 - val_loss: 0.1038\n",
            "Epoch 38/50\n",
            "6750/6750 [==============================] - 13s 2ms/step - loss: 0.0835 - val_loss: 0.1153\n",
            "Epoch 39/50\n",
            "6750/6750 [==============================] - 13s 2ms/step - loss: 0.0801 - val_loss: 0.0849\n",
            "Epoch 40/50\n",
            "6750/6750 [==============================] - 14s 2ms/step - loss: 0.0800 - val_loss: 0.0946\n",
            "Epoch 41/50\n",
            "6750/6750 [==============================] - 13s 2ms/step - loss: 0.0770 - val_loss: 0.1019\n",
            "Epoch 42/50\n",
            "6750/6750 [==============================] - 14s 2ms/step - loss: 0.0779 - val_loss: 0.1226\n",
            "Epoch 43/50\n",
            "6750/6750 [==============================] - 14s 2ms/step - loss: 0.0759 - val_loss: 0.1020\n",
            "Epoch 44/50\n",
            "6750/6750 [==============================] - 14s 2ms/step - loss: 0.0802 - val_loss: 0.0963\n",
            "Epoch 45/50\n",
            "6750/6750 [==============================] - 13s 2ms/step - loss: 0.0759 - val_loss: 0.1041\n",
            "Epoch 46/50\n",
            "6750/6750 [==============================] - 15s 2ms/step - loss: 0.0812 - val_loss: 0.1020\n",
            "Epoch 47/50\n",
            "6750/6750 [==============================] - 13s 2ms/step - loss: 0.0752 - val_loss: 0.1072\n",
            "Epoch 48/50\n",
            "6750/6750 [==============================] - 15s 2ms/step - loss: 0.0784 - val_loss: 0.1359\n",
            "Epoch 49/50\n",
            "6750/6750 [==============================] - 14s 2ms/step - loss: 0.0769 - val_loss: 0.0692\n",
            "Epoch 50/50\n",
            "6750/6750 [==============================] - 13s 2ms/step - loss: 0.0789 - val_loss: 0.1182\n"
          ],
          "name": "stdout"
        }
      ]
    },
    {
      "cell_type": "code",
      "metadata": {
        "id": "GR-1VIeNGzfR",
        "colab_type": "code",
        "colab": {}
      },
      "source": [
        ""
      ],
      "execution_count": 0,
      "outputs": []
    },
    {
      "cell_type": "code",
      "metadata": {
        "id": "egRTX1lOZCek",
        "colab_type": "code",
        "outputId": "5b5be633-3108-4488-ea1b-081788cea130",
        "colab": {
          "base_uri": "https://localhost:8080/",
          "height": 358
        }
      },
      "source": [
        "import matplotlib.pyplot as plt\n",
        "\n",
        "nn=1000\n",
        "xplot=X_train[:nn,:,:]\n",
        "yplot=y_train[:nn]\n",
        "ypredict=[]\n",
        "\n",
        "\n",
        "for i in range(0,nn):\n",
        "  ypredict=np.append(ypredict,model.predict(xplot[i,:,:].reshape(1,timesteps,n)))\n",
        "  \n",
        "# ypredict=np.append(ypredict,model.predict(xplot))\n",
        "\n",
        "plt.figure(figsize=(12,5))  \n",
        "\n",
        "xt= np.arange(0,nn,1)\n",
        "plt.plot(xt,yplot,'ro',label='Actual output')\n",
        "plt.plot(xt,ypredict,'go',label='Predicted output')\n",
        "plt.legend()\n",
        "# plt.plot(xt,yplot-ypredict,'bo')"
      ],
      "execution_count": 0,
      "outputs": [
        {
          "output_type": "execute_result",
          "data": {
            "text/plain": [
              "<Figure size 864x360 with 0 Axes>"
            ]
          },
          "metadata": {
            "tags": []
          },
          "execution_count": 9
        },
        {
          "output_type": "execute_result",
          "data": {
            "text/plain": [
              "[<matplotlib.lines.Line2D at 0x7faabff51e48>]"
            ]
          },
          "metadata": {
            "tags": []
          },
          "execution_count": 9
        },
        {
          "output_type": "execute_result",
          "data": {
            "text/plain": [
              "[<matplotlib.lines.Line2D at 0x7faac07e5208>]"
            ]
          },
          "metadata": {
            "tags": []
          },
          "execution_count": 9
        },
        {
          "output_type": "execute_result",
          "data": {
            "text/plain": [
              "<matplotlib.legend.Legend at 0x7faabff5d2b0>"
            ]
          },
          "metadata": {
            "tags": []
          },
          "execution_count": 9
        },
        {
          "output_type": "display_data",
          "data": {
            "image/png": "[encoded data removed]",
            "text/plain": [
              "<Figure size 864x360 with 1 Axes>"
            ]
          },
          "metadata": {
            "tags": []
          }
        }
      ]
    },
    {
      "cell_type": "code",
      "metadata": {
        "id": "Eve1ovAwyX4r",
        "colab_type": "code",
        "colab": {}
      },
      "source": [
        ""
      ],
      "execution_count": 0,
      "outputs": []
    },
    {
      "cell_type": "code",
      "metadata": {
        "id": "GD5OvO6MVDAc",
        "colab_type": "code",
        "outputId": "0b173073-84b1-4e1e-f797-acd993853f86",
        "colab": {
          "base_uri": "https://localhost:8080/",
          "height": 286
        }
      },
      "source": [
        "import matplotlib.pyplot as plt\n",
        "\n",
        "plt.plot(h.history['loss'])\n",
        "plt.plot(h.history['val_loss'])"
      ],
      "execution_count": 0,
      "outputs": [
        {
          "output_type": "execute_result",
          "data": {
            "text/plain": [
              "[<matplotlib.lines.Line2D at 0x7faabfef2048>]"
            ]
          },
          "metadata": {
            "tags": []
          },
          "execution_count": 10
        },
        {
          "output_type": "execute_result",
          "data": {
            "text/plain": [
              "[<matplotlib.lines.Line2D at 0x7faac07f48d0>]"
            ]
          },
          "metadata": {
            "tags": []
          },
          "execution_count": 10
        },
        {
          "output_type": "display_data",
          "data": {
            "image/png": "[encoded data removed]",
            "text/plain": [
              "<Figure size 432x288 with 1 Axes>"
            ]
          },
          "metadata": {
            "tags": []
          }
        }
      ]
    },
    {
      "cell_type": "code",
      "metadata": {
        "id": "BMf1lZyOq3UQ",
        "colab_type": "code",
        "outputId": "aee0eadd-77b0-408f-cfc0-ddfbc0f473bb",
        "colab": {
          "base_uri": "https://localhost:8080/",
          "height": 86
        }
      },
      "source": [
        "from sklearn import metrics\n",
        "\n",
        "thresh=0.9\n",
        "ylen=len(ypredict)\n",
        "labelspred=np.empty(ylen)\n",
        "for i in range(0,ylen):\n",
        "  if(ypredict[i]>thresh):\n",
        "    labelspred[i]=1\n",
        "  else:\n",
        "    labelspred[i]=0\n",
        "  \n",
        "print(\"Accuracy score \",metrics.accuracy_score(labelstrue[2000:3000], labelspred, normalize=True))\n",
        "print(\"Precision score \",metrics.precision_score(labelstrue[2000:3000],labelspred,average=None))\n",
        "print(\"Recall score \",metrics.recall_score(labelstrue[2000:3000], labelspred, average=None))\n",
        "print(\"f1 score \",metrics.f1_score(labelstrue[2000:3000], labelspred, average=None))"
      ],
      "execution_count": 0,
      "outputs": [
        {
          "output_type": "stream",
          "text": [
            "Accuracy score  0.837\n",
            "Precision score  [0.54385965 0.87471783]\n",
            "Recall score  [0.3583815  0.93712213]\n",
            "f1 score  [0.43205575 0.9048453 ]\n"
          ],
          "name": "stdout"
        }
      ]
    },
    {
      "cell_type": "code",
      "metadata": {
        "id": "naZtpzvjKZQz",
        "colab_type": "code",
        "outputId": "42b3dc8a-1762-4120-fdf8-1a71faeb0529",
        "colab": {
          "base_uri": "https://localhost:8080/",
          "height": 121
        }
      },
      "source": [
        "print('Model Performance: Log Loss and Accuracy on training data')\n",
        "model.evaluate(X_train, y_train, batch_size = 10)\n",
        "\n",
        "print('\\nModel Performance: Log Loss and Accuracy on validation data')\n",
        "model.evaluate(X_test,y_test, batch_size = 10)"
      ],
      "execution_count": 0,
      "outputs": [
        {
          "output_type": "stream",
          "text": [
            "Model Performance: Log Loss and Accuracy on training data\n",
            "6750/6750 [==============================] - 5s 777us/step\n"
          ],
          "name": "stdout"
        },
        {
          "output_type": "execute_result",
          "data": {
            "text/plain": [
              "0.1170252753911471"
            ]
          },
          "metadata": {
            "tags": []
          },
          "execution_count": 68
        },
        {
          "output_type": "stream",
          "text": [
            "\n",
            "Model Performance: Log Loss and Accuracy on validation data\n",
            "2000/2000 [==============================] - 2s 753us/step\n"
          ],
          "name": "stdout"
        },
        {
          "output_type": "execute_result",
          "data": {
            "text/plain": [
              "0.10483251449186355"
            ]
          },
          "metadata": {
            "tags": []
          },
          "execution_count": 68
        }
      ]
    }
  ]
}